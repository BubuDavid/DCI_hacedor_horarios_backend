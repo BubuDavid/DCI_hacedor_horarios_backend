{
 "cells": [
  {
   "cell_type": "markdown",
   "id": "edc77bea",
   "metadata": {},
   "source": [
    "# Creating our HH!\n",
    "## Step 1: Data 🗃️!\n",
    "We are going to split this step into multiple sub-steps 📄:\n",
    "1. ⛏️**Web Scraping**.\n",
    "3. 🐼**Data Transformation**L.\n",
    "4. 🧹**Data cleansing**.\n",
    "5. 📤**Export the Data**.\n",
    "---"
   ]
  },
  {
   "cell_type": "markdown",
   "id": "9acff875-7766-4164-a8e2-63464e42bb5b",
   "metadata": {
    "tags": []
   },
   "source": [
    "# 🤔 Pre-coding\n",
    "Lets define and importa some useful stuff before we start coding"
   ]
  },
  {
   "cell_type": "code",
   "execution_count": 1,
   "id": "a2e39b45-dcf7-464f-8317-b0a82eeb7a6c",
   "metadata": {},
   "outputs": [],
   "source": [
    "# Important imports\n",
    "import requests as req # Library for HTTP requests (allows you to send HTTP requests etremely easily): https://pypi.org/project/requests/\n",
    "from bs4 import BeautifulSoup # Python Library for pulling data out of HTML files (or in this case, web page): https://www.crummy.com/software/BeautifulSoup/bs4/doc/\n",
    "import pandas as pd # For Data Analysis and Manipulation in Python: https://pandas.pydata.org/\n",
    "import numpy as np # For matricial and array operations\n",
    "import unicodedata # For normalizing in function below"
   ]
  },
  {
   "cell_type": "code",
   "execution_count": 2,
   "id": "aa44cf7d-fb21-40bb-9640-96b1c81f4901",
   "metadata": {},
   "outputs": [],
   "source": [
    "# Normalize text function\n",
    "def normalize_text(word):\n",
    "    \"\"\"\n",
    "    This function takes a string 'word' and normalized\n",
    "    Example: hElLó wÓrlD = HELLO WORLD\n",
    "    \"\"\"\n",
    "    word = str(word) # Making sure this is a string\n",
    "    upper_word = word.upper() # Only upper case letters\n",
    "    striped_word = upper_word.strip() # No spaces at the beginning or end of the word\n",
    "    # No accents -> https://docs.python.org/3/library/unicodedata.html#unicodedata.normalize\n",
    "    normalized_word = ''.join([\n",
    "        letter for letter in unicodedata.normalize('NFD', striped_word)\n",
    "        if unicodedata.category(letter) != 'Mn'\n",
    "    ])\n",
    "\n",
    "    return normalized_word"
   ]
  },
  {
   "cell_type": "code",
   "execution_count": 3,
   "id": "2c8095dc-1619-4472-ba54-3a6e42516047",
   "metadata": {},
   "outputs": [
    {
     "data": {
      "text/plain": [
       "'HELLO WORLD'"
      ]
     },
     "execution_count": 3,
     "metadata": {},
     "output_type": "execute_result"
    }
   ],
   "source": [
    "normalize_text('hElLó wÓrlD')"
   ]
  },
  {
   "cell_type": "markdown",
   "id": "5efd679b",
   "metadata": {},
   "source": [
    "# ⛏️Web Scraping\n",
    "Is the process of extracting data from a web page, in this case we are going to use my [college page](http://www.dci.ugto.mx/estudiantes/index.php/mcursos/horarios-licenciatura) 🤗"
   ]
  },
  {
   "cell_type": "code",
   "execution_count": 4,
   "id": "2d939d9e",
   "metadata": {},
   "outputs": [],
   "source": [
    "# Request to the page function\n",
    "def request_url(url):\n",
    "    res = req.get(url)\n",
    "    if res.status_code not in range(200, 300):\n",
    "        raise Exception(\"Something wen wrong\", res.tatus_code)\n",
    "    else:\n",
    "        print(res.status_code, \"- Everythin is fine 🔥\")\n",
    "    return res"
   ]
  },
  {
   "cell_type": "code",
   "execution_count": 5,
   "id": "b0de9e9b-98a2-4849-94ba-70c90cafc621",
   "metadata": {},
   "outputs": [
    {
     "name": "stdout",
     "output_type": "stream",
     "text": [
      "200 - Everythin is fine 🔥\n",
      "b'<!DOCTYPE html>'\n"
     ]
    }
   ],
   "source": [
    "# Check our request function\n",
    "url = 'http://www.dci.ugto.mx/estudiantes/index.php/mcursos/horarios-licenciatura'\n",
    "res = request_url(url)\n",
    "content = res.content\n",
    "print(content[:15])"
   ]
  },
  {
   "cell_type": "code",
   "execution_count": 6,
   "id": "6b6e2d17-4d5d-4763-8153-53733f30bd4c",
   "metadata": {},
   "outputs": [],
   "source": [
    "# We need a beautiful soup object, not html in a string\n",
    "soup = BeautifulSoup(content, 'html.parser')\n",
    "# The schedules are in a table, lets bring it (its in the second one)\n",
    "all_tables = soup.find_all('table')\n",
    "schedule_table = all_tables[1] # 👈 THIS IS OUR TABLE"
   ]
  },
  {
   "cell_type": "markdown",
   "id": "9a2942dd-4512-481d-8c44-c797b50c47af",
   "metadata": {},
   "source": [
    "# 🐼**Data Transformation**: We need to transform to pandas objects to make the cleaning"
   ]
  },
  {
   "cell_type": "code",
   "execution_count": 7,
   "id": "2ed425b1-8015-49f3-8495-5b13782439bd",
   "metadata": {},
   "outputs": [
    {
     "name": "stdout",
     "output_type": "stream",
     "text": [
      "# | UNIDAD DE APRENDIZAJE | GRUPO | DÍA/HORA/AULA | DÍA/HORA/AULA | DÍA/HORA/AULA | DÍA/HORA/AULA | PROFESOR (A) | \n",
      "index_in_page | NAME | GROUP | DAY/TIME/ROOM1 | DAY/TIME/ROOM2 | DAY/TIME/ROOM3 | DAY/TIME/ROOM4 | PROFESSORS | "
     ]
    }
   ],
   "source": [
    "# We need to check how many columns are there in http://www.dci.ugto.mx/estudiantes/index.php/mcursos/horarios-licenciatura\n",
    "# So we need each data component in the first row\n",
    "column_row = schedule_table.find_all('tr')[0] # 1st row\n",
    "# Every data component\n",
    "td_with_column_names = column_row.find_all('td')\n",
    "# Lets have a look to this column names\n",
    "for td in td_with_column_names:\n",
    "    print(td.text.replace('\\n', ''), end = \" | \")\n",
    "print()\n",
    "# I am going to change every column name to a better-shorter-normalized column name\n",
    "column_names = ['index_in_page', 'NAME', 'GROUP', 'DAY/TIME/ROOM1', 'DAY/TIME/ROOM2', 'DAY/TIME/ROOM3', 'DAY/TIME/ROOM4', 'PROFESSORS'] # 👈 THIS IS OUR COLUMN NAMES LIST\n",
    "for name in column_names:\n",
    "    print(name, end = ' | ')\n",
    "    \n",
    "# Just comparing the number of columns so there is no error\n",
    "assert len(column_names) == len(td_with_column_names), \"Don't have the same lenght! CORRECT IT!\""
   ]
  },
  {
   "cell_type": "code",
   "execution_count": 8,
   "id": "45d821ae-03f6-4f60-ba32-51ec79ea2648",
   "metadata": {},
   "outputs": [
    {
     "data": {
      "text/plain": [
       "{'index_in_page': '1',\n",
       " 'NAME': 'ACABADO DEL CUERO',\n",
       " 'GROUP': 'A',\n",
       " 'DAY/TIME/ROOM1': 'SÁBADO/9-13/LAB. DE CURTIDURÍA, EDIF. G',\n",
       " 'DAY/TIME/ROOM2': '\\xa0',\n",
       " 'DAY/TIME/ROOM3': '\\xa0',\n",
       " 'DAY/TIME/ROOM4': '\\xa0',\n",
       " 'PROFESSORS': 'JUAN FRANCISCO RAYAS ROJAS'}"
      ]
     },
     "execution_count": 8,
     "metadata": {},
     "output_type": "execute_result"
    }
   ],
   "source": [
    "# Now we need to get the actual data IN THE ROWS\n",
    "all_rows = schedule_table.find_all('tr')\n",
    "schedules = []\n",
    "for row in all_rows[1:]: # Starts in 1 because the 0th is the row with the column names\n",
    "    tds = row.find_all('td') # Need the data of each row\n",
    "    # We are going to create a dictionary for each row\n",
    "    d_row = {}\n",
    "    for index, column in enumerate(column_names):\n",
    "        d_row[column] = tds[index].text # {column: tds[index]}\n",
    "        \n",
    "    # And we need to add it to the schedules list\n",
    "    schedules.append(d_row)\n",
    "schedules[0] # 👈 OUR SCHEDULES IN A PSEUDO-JSON FORMAT"
   ]
  },
  {
   "cell_type": "code",
   "execution_count": 9,
   "id": "3a4f2269-bb88-4715-ae6c-bf17fdcbb06c",
   "metadata": {},
   "outputs": [
    {
     "data": {
      "text/html": [
       "<div>\n",
       "<style scoped>\n",
       "    .dataframe tbody tr th:only-of-type {\n",
       "        vertical-align: middle;\n",
       "    }\n",
       "\n",
       "    .dataframe tbody tr th {\n",
       "        vertical-align: top;\n",
       "    }\n",
       "\n",
       "    .dataframe thead th {\n",
       "        text-align: right;\n",
       "    }\n",
       "</style>\n",
       "<table border=\"1\" class=\"dataframe\">\n",
       "  <thead>\n",
       "    <tr style=\"text-align: right;\">\n",
       "      <th></th>\n",
       "      <th>index_in_page</th>\n",
       "      <th>NAME</th>\n",
       "      <th>GROUP</th>\n",
       "      <th>DAY/TIME/ROOM1</th>\n",
       "      <th>DAY/TIME/ROOM2</th>\n",
       "      <th>DAY/TIME/ROOM3</th>\n",
       "      <th>DAY/TIME/ROOM4</th>\n",
       "      <th>PROFESSORS</th>\n",
       "    </tr>\n",
       "  </thead>\n",
       "  <tbody>\n",
       "    <tr>\n",
       "      <th>0</th>\n",
       "      <td>1</td>\n",
       "      <td>ACABADO DEL CUERO</td>\n",
       "      <td>A</td>\n",
       "      <td>SÁBADO/9-13/LAB. DE CURTIDURÍA, EDIF. G</td>\n",
       "      <td></td>\n",
       "      <td></td>\n",
       "      <td></td>\n",
       "      <td>JUAN FRANCISCO RAYAS ROJAS</td>\n",
       "    </tr>\n",
       "    <tr>\n",
       "      <th>1</th>\n",
       "      <td>2</td>\n",
       "      <td>ADMINISTRACIÓN Y MANEJO DE PERSONAL</td>\n",
       "      <td>A</td>\n",
       "      <td>SÁBADO/9-12/F1</td>\n",
       "      <td></td>\n",
       "      <td></td>\n",
       "      <td></td>\n",
       "      <td>ALDELMO EMMANUEL ISRAEL REYES PABLO</td>\n",
       "    </tr>\n",
       "    <tr>\n",
       "      <th>2</th>\n",
       "      <td>3</td>\n",
       "      <td>ÁLGEBRA LINEAL</td>\n",
       "      <td>A</td>\n",
       "      <td>MARTES/8-10/F6</td>\n",
       "      <td>JUEVES/8-10/F6</td>\n",
       "      <td></td>\n",
       "      <td></td>\n",
       "      <td>MIGUEL ÁNGEL VALLEJO HERNÁNDEZ</td>\n",
       "    </tr>\n",
       "  </tbody>\n",
       "</table>\n",
       "</div>"
      ],
      "text/plain": [
       "  index_in_page                                 NAME GROUP  \\\n",
       "0             1                    ACABADO DEL CUERO     A   \n",
       "1             2  ADMINISTRACIÓN Y MANEJO DE PERSONAL     A   \n",
       "2             3                       ÁLGEBRA LINEAL     A   \n",
       "\n",
       "                            DAY/TIME/ROOM1  DAY/TIME/ROOM2 DAY/TIME/ROOM3  \\\n",
       "0  SÁBADO/9-13/LAB. DE CURTIDURÍA, EDIF. G                                  \n",
       "1                           SÁBADO/9-12/F1                                  \n",
       "2                           MARTES/8-10/F6  JUEVES/8-10/F6                  \n",
       "\n",
       "  DAY/TIME/ROOM4                           PROFESSORS  \n",
       "0                          JUAN FRANCISCO RAYAS ROJAS  \n",
       "1                 ALDELMO EMMANUEL ISRAEL REYES PABLO  \n",
       "2                      MIGUEL ÁNGEL VALLEJO HERNÁNDEZ  "
      ]
     },
     "execution_count": 9,
     "metadata": {},
     "output_type": "execute_result"
    }
   ],
   "source": [
    "# And now we can create a pandas data frame\n",
    "raw_schedules_df = pd.DataFrame(schedules, columns = column_names)\n",
    "raw_schedules_df.head(3)"
   ]
  },
  {
   "cell_type": "markdown",
   "id": "352869d0-9c5b-41df-95ee-e2074841bbca",
   "metadata": {},
   "source": [
    "# 🧹**Data cleansing**: Lets clean the data and correct some errors\n",
    "I am gonna list every error and thing as a sub-title in the following cells"
   ]
  },
  {
   "cell_type": "markdown",
   "id": "e8d88f7c-d67d-4835-b8e9-93bf3175e359",
   "metadata": {},
   "source": [
    "## ❌ 1. Accents and upper letters\n",
    "We need to normalize every field (we could do this before in the data extract part, but I think is better to separate things correctly)"
   ]
  },
  {
   "cell_type": "code",
   "execution_count": 10,
   "id": "960bd380-6e09-425a-bef7-f33765607c1b",
   "metadata": {},
   "outputs": [],
   "source": [
    "# Function for normalizing the df with help of our function in 🤔 Pre-coding part: \"normalize_text\"\n",
    "def normalize_df(column):\n",
    "    normalized_column = [] # A list for the normalized column\n",
    "    for cell in column:\n",
    "        normalized_column.append(normalize_text(cell))\n",
    "\n",
    "    return normalized_column"
   ]
  },
  {
   "cell_type": "code",
   "execution_count": 11,
   "id": "f84d59bf-2044-46f1-a00b-7955a15cdf77",
   "metadata": {},
   "outputs": [
    {
     "data": {
      "text/html": [
       "<div>\n",
       "<style scoped>\n",
       "    .dataframe tbody tr th:only-of-type {\n",
       "        vertical-align: middle;\n",
       "    }\n",
       "\n",
       "    .dataframe tbody tr th {\n",
       "        vertical-align: top;\n",
       "    }\n",
       "\n",
       "    .dataframe thead th {\n",
       "        text-align: right;\n",
       "    }\n",
       "</style>\n",
       "<table border=\"1\" class=\"dataframe\">\n",
       "  <thead>\n",
       "    <tr style=\"text-align: right;\">\n",
       "      <th></th>\n",
       "      <th>index_in_page</th>\n",
       "      <th>NAME</th>\n",
       "      <th>GROUP</th>\n",
       "      <th>DAY/TIME/ROOM1</th>\n",
       "      <th>DAY/TIME/ROOM2</th>\n",
       "      <th>DAY/TIME/ROOM3</th>\n",
       "      <th>DAY/TIME/ROOM4</th>\n",
       "      <th>PROFESSORS</th>\n",
       "    </tr>\n",
       "  </thead>\n",
       "  <tbody>\n",
       "    <tr>\n",
       "      <th>0</th>\n",
       "      <td>1</td>\n",
       "      <td>ACABADO DEL CUERO</td>\n",
       "      <td>A</td>\n",
       "      <td>SABADO/9-13/LAB. DE CURTIDURIA, EDIF. G</td>\n",
       "      <td></td>\n",
       "      <td></td>\n",
       "      <td></td>\n",
       "      <td>JUAN FRANCISCO RAYAS ROJAS</td>\n",
       "    </tr>\n",
       "    <tr>\n",
       "      <th>1</th>\n",
       "      <td>2</td>\n",
       "      <td>ADMINISTRACION Y MANEJO DE PERSONAL</td>\n",
       "      <td>A</td>\n",
       "      <td>SABADO/9-12/F1</td>\n",
       "      <td></td>\n",
       "      <td></td>\n",
       "      <td></td>\n",
       "      <td>ALDELMO EMMANUEL ISRAEL REYES PABLO</td>\n",
       "    </tr>\n",
       "    <tr>\n",
       "      <th>2</th>\n",
       "      <td>3</td>\n",
       "      <td>ALGEBRA LINEAL</td>\n",
       "      <td>A</td>\n",
       "      <td>MARTES/8-10/F6</td>\n",
       "      <td>JUEVES/8-10/F6</td>\n",
       "      <td></td>\n",
       "      <td></td>\n",
       "      <td>MIGUEL ANGEL VALLEJO HERNANDEZ</td>\n",
       "    </tr>\n",
       "    <tr>\n",
       "      <th>3</th>\n",
       "      <td>4</td>\n",
       "      <td>ALGEBRA LINEAL</td>\n",
       "      <td>B</td>\n",
       "      <td>LUNES/12-14/F2</td>\n",
       "      <td>MIERCOLES/12-14F2</td>\n",
       "      <td></td>\n",
       "      <td></td>\n",
       "      <td>TEODORO CORDOVA FRAGA</td>\n",
       "    </tr>\n",
       "    <tr>\n",
       "      <th>4</th>\n",
       "      <td>5</td>\n",
       "      <td>ALGEBRA LINEAL AVANZADA</td>\n",
       "      <td>A</td>\n",
       "      <td>LUNES/15-17/G1</td>\n",
       "      <td>MIERCOLES/15-17/G1</td>\n",
       "      <td></td>\n",
       "      <td></td>\n",
       "      <td>AZARAEL ADONAY YEBRA PEREZ</td>\n",
       "    </tr>\n",
       "    <tr>\n",
       "      <th>...</th>\n",
       "      <td>...</td>\n",
       "      <td>...</td>\n",
       "      <td>...</td>\n",
       "      <td>...</td>\n",
       "      <td>...</td>\n",
       "      <td>...</td>\n",
       "      <td>...</td>\n",
       "      <td>...</td>\n",
       "    </tr>\n",
       "    <tr>\n",
       "      <th>236</th>\n",
       "      <td>237</td>\n",
       "      <td>TOPICOS SELECTOS DE ASTRONOMIA</td>\n",
       "      <td>A</td>\n",
       "      <td>MARTES/15-17/C2</td>\n",
       "      <td>JUEVES/15-17/C2</td>\n",
       "      <td></td>\n",
       "      <td></td>\n",
       "      <td>CARSTEN HOLTFORT</td>\n",
       "    </tr>\n",
       "    <tr>\n",
       "      <th>237</th>\n",
       "      <td>238</td>\n",
       "      <td>TOPICOS SELECTOS DE ASTRONOMIA</td>\n",
       "      <td>B</td>\n",
       "      <td>LUNES/14-16/F9</td>\n",
       "      <td>MIERCOLES/14-16/F9</td>\n",
       "      <td></td>\n",
       "      <td></td>\n",
       "      <td>OCTAVIO JOSE OBREGON DIAZ</td>\n",
       "    </tr>\n",
       "    <tr>\n",
       "      <th>238</th>\n",
       "      <td>239</td>\n",
       "      <td>TOPICOS SELECTOS DE ENERGIAS ALTERNAS</td>\n",
       "      <td>A</td>\n",
       "      <td>MARTES/17-19/F8</td>\n",
       "      <td>JUVES/17-19/F8</td>\n",
       "      <td></td>\n",
       "      <td></td>\n",
       "      <td>ELDER DE LA ROSA CRUZ</td>\n",
       "    </tr>\n",
       "    <tr>\n",
       "      <th>239</th>\n",
       "      <td>240</td>\n",
       "      <td>VARIABLE COMPLEJA</td>\n",
       "      <td>A</td>\n",
       "      <td>MIERCOLES/8-10/F7</td>\n",
       "      <td>VIERNES/8-10/F7</td>\n",
       "      <td></td>\n",
       "      <td></td>\n",
       "      <td>MARCO ANTONIO REYES SANTOS</td>\n",
       "    </tr>\n",
       "    <tr>\n",
       "      <th>240</th>\n",
       "      <td>241</td>\n",
       "      <td>VARIABLE COMPLEJA</td>\n",
       "      <td>B</td>\n",
       "      <td>MARTES/10-12/C3</td>\n",
       "      <td>VIERNES/10-12/F6</td>\n",
       "      <td></td>\n",
       "      <td></td>\n",
       "      <td>AZARAEL ADONAY YEBRA PEREZ</td>\n",
       "    </tr>\n",
       "  </tbody>\n",
       "</table>\n",
       "<p>241 rows × 8 columns</p>\n",
       "</div>"
      ],
      "text/plain": [
       "    index_in_page                                   NAME GROUP  \\\n",
       "0               1                      ACABADO DEL CUERO     A   \n",
       "1               2    ADMINISTRACION Y MANEJO DE PERSONAL     A   \n",
       "2               3                         ALGEBRA LINEAL     A   \n",
       "3               4                         ALGEBRA LINEAL     B   \n",
       "4               5                ALGEBRA LINEAL AVANZADA     A   \n",
       "..            ...                                    ...   ...   \n",
       "236           237         TOPICOS SELECTOS DE ASTRONOMIA     A   \n",
       "237           238         TOPICOS SELECTOS DE ASTRONOMIA     B   \n",
       "238           239  TOPICOS SELECTOS DE ENERGIAS ALTERNAS     A   \n",
       "239           240                      VARIABLE COMPLEJA     A   \n",
       "240           241                      VARIABLE COMPLEJA     B   \n",
       "\n",
       "                              DAY/TIME/ROOM1      DAY/TIME/ROOM2  \\\n",
       "0    SABADO/9-13/LAB. DE CURTIDURIA, EDIF. G                       \n",
       "1                             SABADO/9-12/F1                       \n",
       "2                             MARTES/8-10/F6      JUEVES/8-10/F6   \n",
       "3                             LUNES/12-14/F2   MIERCOLES/12-14F2   \n",
       "4                             LUNES/15-17/G1  MIERCOLES/15-17/G1   \n",
       "..                                       ...                 ...   \n",
       "236                          MARTES/15-17/C2     JUEVES/15-17/C2   \n",
       "237                           LUNES/14-16/F9  MIERCOLES/14-16/F9   \n",
       "238                          MARTES/17-19/F8      JUVES/17-19/F8   \n",
       "239                        MIERCOLES/8-10/F7     VIERNES/8-10/F7   \n",
       "240                          MARTES/10-12/C3    VIERNES/10-12/F6   \n",
       "\n",
       "    DAY/TIME/ROOM3 DAY/TIME/ROOM4                           PROFESSORS  \n",
       "0                                           JUAN FRANCISCO RAYAS ROJAS  \n",
       "1                                  ALDELMO EMMANUEL ISRAEL REYES PABLO  \n",
       "2                                       MIGUEL ANGEL VALLEJO HERNANDEZ  \n",
       "3                                                TEODORO CORDOVA FRAGA  \n",
       "4                                           AZARAEL ADONAY YEBRA PEREZ  \n",
       "..             ...            ...                                  ...  \n",
       "236                                                   CARSTEN HOLTFORT  \n",
       "237                                          OCTAVIO JOSE OBREGON DIAZ  \n",
       "238                                              ELDER DE LA ROSA CRUZ  \n",
       "239                                         MARCO ANTONIO REYES SANTOS  \n",
       "240                                         AZARAEL ADONAY YEBRA PEREZ  \n",
       "\n",
       "[241 rows x 8 columns]"
      ]
     },
     "execution_count": 11,
     "metadata": {},
     "output_type": "execute_result"
    }
   ],
   "source": [
    "normalized_data = raw_schedules_df.apply(normalize_df)\n",
    "normalized_data # 👈 OUR DATA NORMALIZED"
   ]
  },
  {
   "cell_type": "markdown",
   "id": "51c0d5cd-35e0-48df-bb10-6d29a0c5f024",
   "metadata": {},
   "source": [
    "## ❌ 2. Professors Together\n",
    "There are some subject with more than 1 professor (because of labs or something else), so we need to generate a field for each professor. When this happens, every profressor is separated with a '/' character, so we can use that for creating the new fields"
   ]
  },
  {
   "cell_type": "code",
   "execution_count": 12,
   "id": "c3df5ec3-886b-4091-9a10-b8a850c1ac63",
   "metadata": {},
   "outputs": [
    {
     "data": {
      "text/plain": [
       "[['GUSTAVO BASURTO ISLAS'],\n",
       " ['GUSTAVO BASURTO ISLAS',\n",
       "  'EDGAR VAZQUEZ NUNEZ',\n",
       "  'ARGELIA ROSILLO DE LA TORRE']]"
      ]
     },
     "execution_count": 12,
     "metadata": {},
     "output_type": "execute_result"
    }
   ],
   "source": [
    "# Grab the professor list\n",
    "professor_list = normalized_data['PROFESSORS'].to_list()\n",
    "# Split all this professors in a matrix\n",
    "professor_matrix = [professor.split('/') for professor in professor_list]\n",
    "# We need to re-normalize this matrix because it can be there are some not-wanted spaces\n",
    "for i in range(len(professor_matrix)):\n",
    "    for j in range(len(professor_matrix[i])):\n",
    "        professor_matrix[i][j] = normalize_text(professor_matrix[i][j])\n",
    "# As an example, lets see some multiple professors\n",
    "professor_matrix[22:24] # One subject with 1 professor and the next one with 3 professors"
   ]
  },
  {
   "cell_type": "code",
   "execution_count": 13,
   "id": "ffcefe66-25fc-4b3e-928b-f1c4941affae",
   "metadata": {},
   "outputs": [
    {
     "name": "stdout",
     "output_type": "stream",
     "text": [
      "The max of professors per subject is: 3\n"
     ]
    }
   ],
   "source": [
    "# We need to know how many create so lets calculate it\n",
    "max_professors = 0\n",
    "for professors in professor_matrix:\n",
    "    max_professors = max(len(professors), max_professors)\n",
    "    \n",
    "print(\"The max of professors per subject is:\", max_professors)"
   ]
  },
  {
   "cell_type": "code",
   "execution_count": 14,
   "id": "9c8ae5a2-9ce4-49b8-b8be-07679105d931",
   "metadata": {},
   "outputs": [
    {
     "data": {
      "text/plain": [
       "[['GUSTAVO BASURTO ISLAS', '', ''],\n",
       " ['GUSTAVO BASURTO ISLAS',\n",
       "  'EDGAR VAZQUEZ NUNEZ',\n",
       "  'ARGELIA ROSILLO DE LA TORRE']]"
      ]
     },
     "execution_count": 14,
     "metadata": {},
     "output_type": "execute_result"
    }
   ],
   "source": [
    "# And we need to add the missing columns as blank to professor matrix so its not sparse\n",
    "for i in range(len(professor_matrix)):\n",
    "    for missing in range(max_professors - len(professor_matrix[i])):\n",
    "        professor_matrix[i].append('')\n",
    "        \n",
    "professor_matrix[22:24]"
   ]
  },
  {
   "cell_type": "code",
   "execution_count": 15,
   "id": "1d574164-e223-4eac-9293-71f96e4a72a3",
   "metadata": {},
   "outputs": [
    {
     "data": {
      "text/plain": [
       "['PROFESSOR1', 'PROFESSOR2', 'PROFESSOR3']"
      ]
     },
     "execution_count": 15,
     "metadata": {},
     "output_type": "execute_result"
    }
   ],
   "source": [
    "# So new fields are:\n",
    "professor_columns = [f\"PROFESSOR{index + 1}\" for index in range(max_professors)]\n",
    "professor_columns"
   ]
  },
  {
   "cell_type": "code",
   "execution_count": 16,
   "id": "5c41b293-41fc-4dd6-928e-28c82c86c36e",
   "metadata": {},
   "outputs": [
    {
     "data": {
      "text/html": [
       "<div>\n",
       "<style scoped>\n",
       "    .dataframe tbody tr th:only-of-type {\n",
       "        vertical-align: middle;\n",
       "    }\n",
       "\n",
       "    .dataframe tbody tr th {\n",
       "        vertical-align: top;\n",
       "    }\n",
       "\n",
       "    .dataframe thead th {\n",
       "        text-align: right;\n",
       "    }\n",
       "</style>\n",
       "<table border=\"1\" class=\"dataframe\">\n",
       "  <thead>\n",
       "    <tr style=\"text-align: right;\">\n",
       "      <th></th>\n",
       "      <th>index_in_page</th>\n",
       "      <th>NAME</th>\n",
       "      <th>GROUP</th>\n",
       "      <th>DAY/TIME/ROOM1</th>\n",
       "      <th>DAY/TIME/ROOM2</th>\n",
       "      <th>DAY/TIME/ROOM3</th>\n",
       "      <th>DAY/TIME/ROOM4</th>\n",
       "      <th>PROFESSORS</th>\n",
       "      <th>PROFESSOR1</th>\n",
       "      <th>PROFESSOR2</th>\n",
       "      <th>PROFESSOR3</th>\n",
       "    </tr>\n",
       "  </thead>\n",
       "  <tbody>\n",
       "    <tr>\n",
       "      <th>20</th>\n",
       "      <td>21</td>\n",
       "      <td>BIOLOGIA CELULAR</td>\n",
       "      <td>A-IV</td>\n",
       "      <td>MARTES/12-15/F1</td>\n",
       "      <td>LUNES/12-15/LAB. DE BIOLOGIA, EDIF. G</td>\n",
       "      <td></td>\n",
       "      <td></td>\n",
       "      <td>SILVIA ALEJANDRA LOPEZ JUAREZ</td>\n",
       "      <td>SILVIA ALEJANDRA LOPEZ JUAREZ</td>\n",
       "      <td></td>\n",
       "      <td></td>\n",
       "    </tr>\n",
       "    <tr>\n",
       "      <th>21</th>\n",
       "      <td>22</td>\n",
       "      <td>BIOLOGIA CELULAR</td>\n",
       "      <td>B-I</td>\n",
       "      <td>JUEVES/12-15/F1</td>\n",
       "      <td>MARTES/12-15/LAB. DE BIOLOGIA, EDIF. G</td>\n",
       "      <td></td>\n",
       "      <td></td>\n",
       "      <td>GUSTAVO BASURTO ISLAS</td>\n",
       "      <td>GUSTAVO BASURTO ISLAS</td>\n",
       "      <td></td>\n",
       "      <td></td>\n",
       "    </tr>\n",
       "    <tr>\n",
       "      <th>22</th>\n",
       "      <td>23</td>\n",
       "      <td>BIOLOGIA CELULAR</td>\n",
       "      <td>B-II</td>\n",
       "      <td>JUEVES/12-15/F1</td>\n",
       "      <td>VIERNES/12-15/LAB. DE BIOLOGIA, EDIF. G</td>\n",
       "      <td></td>\n",
       "      <td></td>\n",
       "      <td>GUSTAVO BASURTO ISLAS</td>\n",
       "      <td>GUSTAVO BASURTO ISLAS</td>\n",
       "      <td></td>\n",
       "      <td></td>\n",
       "    </tr>\n",
       "    <tr>\n",
       "      <th>23</th>\n",
       "      <td>24</td>\n",
       "      <td>BIOLOGIA CONTEMPORANEA</td>\n",
       "      <td>A</td>\n",
       "      <td>LUNES/16-18/SALA DE JUNTAS EDIF. B</td>\n",
       "      <td>JUEVES/16-18/ SALA DE JUNTAS EDIF. B</td>\n",
       "      <td></td>\n",
       "      <td></td>\n",
       "      <td>GUSTAVO BASURTO ISLAS / EDGAR VAZQUEZ NUNEZ /A...</td>\n",
       "      <td>GUSTAVO BASURTO ISLAS</td>\n",
       "      <td>EDGAR VAZQUEZ NUNEZ</td>\n",
       "      <td>ARGELIA ROSILLO DE LA TORRE</td>\n",
       "    </tr>\n",
       "  </tbody>\n",
       "</table>\n",
       "</div>"
      ],
      "text/plain": [
       "   index_in_page                    NAME GROUP  \\\n",
       "20            21        BIOLOGIA CELULAR  A-IV   \n",
       "21            22        BIOLOGIA CELULAR   B-I   \n",
       "22            23        BIOLOGIA CELULAR  B-II   \n",
       "23            24  BIOLOGIA CONTEMPORANEA     A   \n",
       "\n",
       "                        DAY/TIME/ROOM1  \\\n",
       "20                     MARTES/12-15/F1   \n",
       "21                     JUEVES/12-15/F1   \n",
       "22                     JUEVES/12-15/F1   \n",
       "23  LUNES/16-18/SALA DE JUNTAS EDIF. B   \n",
       "\n",
       "                             DAY/TIME/ROOM2 DAY/TIME/ROOM3 DAY/TIME/ROOM4  \\\n",
       "20    LUNES/12-15/LAB. DE BIOLOGIA, EDIF. G                                 \n",
       "21   MARTES/12-15/LAB. DE BIOLOGIA, EDIF. G                                 \n",
       "22  VIERNES/12-15/LAB. DE BIOLOGIA, EDIF. G                                 \n",
       "23     JUEVES/16-18/ SALA DE JUNTAS EDIF. B                                 \n",
       "\n",
       "                                           PROFESSORS  \\\n",
       "20                      SILVIA ALEJANDRA LOPEZ JUAREZ   \n",
       "21                              GUSTAVO BASURTO ISLAS   \n",
       "22                              GUSTAVO BASURTO ISLAS   \n",
       "23  GUSTAVO BASURTO ISLAS / EDGAR VAZQUEZ NUNEZ /A...   \n",
       "\n",
       "                       PROFESSOR1           PROFESSOR2  \\\n",
       "20  SILVIA ALEJANDRA LOPEZ JUAREZ                        \n",
       "21          GUSTAVO BASURTO ISLAS                        \n",
       "22          GUSTAVO BASURTO ISLAS                        \n",
       "23          GUSTAVO BASURTO ISLAS  EDGAR VAZQUEZ NUNEZ   \n",
       "\n",
       "                     PROFESSOR3  \n",
       "20                               \n",
       "21                               \n",
       "22                               \n",
       "23  ARGELIA ROSILLO DE LA TORRE  "
      ]
     },
     "execution_count": 16,
     "metadata": {},
     "output_type": "execute_result"
    }
   ],
   "source": [
    "# Lets create this fields in our df\n",
    "normalized_data[professor_columns] = professor_matrix\n",
    "normalized_data[20:24] # Lets check some records in the df # 👈 THIS IS OUR CORRECT DF FOR CLEANSING"
   ]
  },
  {
   "cell_type": "markdown",
   "id": "ad08f1b0-8708-4025-99c5-b0125df3abf2",
   "metadata": {},
   "source": [
    "## ❌ 3. Empty cells\n",
    "If there are empty fields (other than DAY/TIME/ROOM fields because empty cells in this fields is normal) then we need to fix it because that means something is wrong with the algorithm"
   ]
  },
  {
   "cell_type": "code",
   "execution_count": 17,
   "id": "7dd66db0-c12c-4a8e-b690-41d89ad05250",
   "metadata": {},
   "outputs": [
    {
     "data": {
      "text/html": [
       "<div>\n",
       "<style scoped>\n",
       "    .dataframe tbody tr th:only-of-type {\n",
       "        vertical-align: middle;\n",
       "    }\n",
       "\n",
       "    .dataframe tbody tr th {\n",
       "        vertical-align: top;\n",
       "    }\n",
       "\n",
       "    .dataframe thead th {\n",
       "        text-align: right;\n",
       "    }\n",
       "</style>\n",
       "<table border=\"1\" class=\"dataframe\">\n",
       "  <thead>\n",
       "    <tr style=\"text-align: right;\">\n",
       "      <th></th>\n",
       "      <th>index_in_page</th>\n",
       "      <th>NAME</th>\n",
       "      <th>GROUP</th>\n",
       "      <th>DAY/TIME/ROOM1</th>\n",
       "      <th>DAY/TIME/ROOM2</th>\n",
       "      <th>DAY/TIME/ROOM3</th>\n",
       "      <th>DAY/TIME/ROOM4</th>\n",
       "      <th>PROFESSORS</th>\n",
       "      <th>PROFESSOR1</th>\n",
       "      <th>PROFESSOR2</th>\n",
       "      <th>PROFESSOR3</th>\n",
       "    </tr>\n",
       "  </thead>\n",
       "  <tbody>\n",
       "    <tr>\n",
       "      <th>0</th>\n",
       "      <td>1</td>\n",
       "      <td>ACABADO DEL CUERO</td>\n",
       "      <td>A</td>\n",
       "      <td>SABADO/9-13/LAB. DE CURTIDURIA, EDIF. G</td>\n",
       "      <td>NaN</td>\n",
       "      <td>NaN</td>\n",
       "      <td>NaN</td>\n",
       "      <td>JUAN FRANCISCO RAYAS ROJAS</td>\n",
       "      <td>JUAN FRANCISCO RAYAS ROJAS</td>\n",
       "      <td>NaN</td>\n",
       "      <td>NaN</td>\n",
       "    </tr>\n",
       "    <tr>\n",
       "      <th>1</th>\n",
       "      <td>2</td>\n",
       "      <td>ADMINISTRACION Y MANEJO DE PERSONAL</td>\n",
       "      <td>A</td>\n",
       "      <td>SABADO/9-12/F1</td>\n",
       "      <td>NaN</td>\n",
       "      <td>NaN</td>\n",
       "      <td>NaN</td>\n",
       "      <td>ALDELMO EMMANUEL ISRAEL REYES PABLO</td>\n",
       "      <td>ALDELMO EMMANUEL ISRAEL REYES PABLO</td>\n",
       "      <td>NaN</td>\n",
       "      <td>NaN</td>\n",
       "    </tr>\n",
       "    <tr>\n",
       "      <th>2</th>\n",
       "      <td>3</td>\n",
       "      <td>ALGEBRA LINEAL</td>\n",
       "      <td>A</td>\n",
       "      <td>MARTES/8-10/F6</td>\n",
       "      <td>JUEVES/8-10/F6</td>\n",
       "      <td>NaN</td>\n",
       "      <td>NaN</td>\n",
       "      <td>MIGUEL ANGEL VALLEJO HERNANDEZ</td>\n",
       "      <td>MIGUEL ANGEL VALLEJO HERNANDEZ</td>\n",
       "      <td>NaN</td>\n",
       "      <td>NaN</td>\n",
       "    </tr>\n",
       "  </tbody>\n",
       "</table>\n",
       "</div>"
      ],
      "text/plain": [
       "  index_in_page                                 NAME GROUP  \\\n",
       "0             1                    ACABADO DEL CUERO     A   \n",
       "1             2  ADMINISTRACION Y MANEJO DE PERSONAL     A   \n",
       "2             3                       ALGEBRA LINEAL     A   \n",
       "\n",
       "                            DAY/TIME/ROOM1  DAY/TIME/ROOM2 DAY/TIME/ROOM3  \\\n",
       "0  SABADO/9-13/LAB. DE CURTIDURIA, EDIF. G             NaN            NaN   \n",
       "1                           SABADO/9-12/F1             NaN            NaN   \n",
       "2                           MARTES/8-10/F6  JUEVES/8-10/F6            NaN   \n",
       "\n",
       "  DAY/TIME/ROOM4                           PROFESSORS  \\\n",
       "0            NaN           JUAN FRANCISCO RAYAS ROJAS   \n",
       "1            NaN  ALDELMO EMMANUEL ISRAEL REYES PABLO   \n",
       "2            NaN       MIGUEL ANGEL VALLEJO HERNANDEZ   \n",
       "\n",
       "                            PROFESSOR1 PROFESSOR2 PROFESSOR3  \n",
       "0           JUAN FRANCISCO RAYAS ROJAS        NaN        NaN  \n",
       "1  ALDELMO EMMANUEL ISRAEL REYES PABLO        NaN        NaN  \n",
       "2       MIGUEL ANGEL VALLEJO HERNANDEZ        NaN        NaN  "
      ]
     },
     "execution_count": 17,
     "metadata": {},
     "output_type": "execute_result"
    }
   ],
   "source": [
    "# First of all, lets standard the spaces and blank spaces to np.nan objects\n",
    "normalized_data = normalized_data.replace(r'^\\s*$', np.nan, regex=True)\n",
    "normalized_data.head(3) # 👈 STILL OUR DF"
   ]
  },
  {
   "cell_type": "code",
   "execution_count": 18,
   "id": "1c3b97a4-e29c-4b54-b3f0-0524f598e992",
   "metadata": {},
   "outputs": [],
   "source": [
    "# Function to detect if there is an empty cell where it should not be.\n",
    "def detect_empty_cells(df, columns):\n",
    "    # Save indices in a list 👇\n",
    "    empty_cells_index = []\n",
    "    # Loop for know if it is empty\n",
    "    for index in range(len(df)):\n",
    "        for column in columns:\n",
    "            if pd.isna(df.at[index, column]):\n",
    "                empty_cells_index.append(index)\n",
    "                \n",
    "    return empty_cells_index"
   ]
  },
  {
   "cell_type": "code",
   "execution_count": 19,
   "id": "232d23df-6bcd-43e9-97e7-913fa7fae325",
   "metadata": {},
   "outputs": [],
   "source": [
    "# Probemos esta función\n",
    "columns_to_check = ['NAME', 'GROUP', 'DAY/TIME/ROOM1', 'PROFESSORS'] # We only care if these fields are empty becuase that means something is wrong\n",
    "empty_rows = detect_empty_cells(normalized_data, columns_to_check)\n",
    "\n",
    "assert not empty_rows, f\"It shouln'd be an empty cell in here 👉 {empty_rows}!\" # If there are empty rows we need to compare with the link http://www.dci.ugto.mx/estudiantes/index.php/mcursos/horarios-licenciatura"
   ]
  },
  {
   "cell_type": "markdown",
   "id": "43ccffcc-3f0f-447e-b226-12c98f351693",
   "metadata": {
    "tags": []
   },
   "source": [
    "## ❌ 4. Errors in DAY/TIME/ROOM fields\n",
    "We need to format this field form, I choose:\n",
    "\n",
    "_day/start_hour-end_hour/room_\n",
    "\n",
    "por ejemplo:\n",
    "\n",
    "_LUNES/14-16/F9_\n",
    "\n",
    "Lunes is Monday in Spanish and F9 is the class room name.\n",
    "In the following code we are going to fix the schedules that do not comply with the format 👇."
   ]
  },
  {
   "cell_type": "code",
   "execution_count": 20,
   "id": "c33c0457-cf50-438d-ba26-8efa241a4d68",
   "metadata": {},
   "outputs": [],
   "source": [
    "# Function to detect a bad format in dates (date by date)\n",
    "def detect_wrong_dates(date):\n",
    "    # We're not checking NAN values\n",
    "    if date == 'NAN' or pd.isna(date):\n",
    "        return False, None\n",
    "    # Split for each \"/\" to obtain every DAY/TIME/ROOM\n",
    "    date_split = date.split('/')\n",
    "\n",
    "    # With this we can find 2 possible errors\n",
    "    # 1. The date field does not have 3 \"/\"\n",
    "    # 2. That, the start-end time does not have any \"-\" \n",
    "\n",
    "    # Detect the 1st\n",
    "    if len(date_split) != 3:\n",
    "        return True, 'Slash'\n",
    "\n",
    "    # Detect the 2nd\n",
    "    hours = date_split[1] # Porque queremos checar la hora\n",
    "    if hours and len(hours.split('-')) != 2:\n",
    "        return True, 'Hour'\n",
    "        \n",
    "        \n",
    "    return False, None"
   ]
  },
  {
   "cell_type": "code",
   "execution_count": 21,
   "id": "23c39d4c-35de-4ec1-b2d5-e88a72147f4f",
   "metadata": {},
   "outputs": [],
   "source": [
    "# The above 👆 function only works for one date, we need to create a function that runs that 👆 function for all the df\n",
    "def detect_wrong_dates_in_df(df, date_columns):\n",
    "    # Iterating over rows\n",
    "    for index, row in df.iterrows():\n",
    "        for column in date_columns:\n",
    "            detection = detect_wrong_dates(row[column])\n",
    "            if detection[0]:\n",
    "                print(f'{detection[1]} Error')\n",
    "                print(f\"Index={index}, #Pag={row['index_in_page']}, Column={column[-1]}\")"
   ]
  },
  {
   "cell_type": "code",
   "execution_count": 22,
   "id": "cbed9523-6f40-4be8-8f98-2f48edbb3db0",
   "metadata": {},
   "outputs": [
    {
     "name": "stdout",
     "output_type": "stream",
     "text": [
      "Slash Error\n",
      "Index=3, #Pag=4, Column=2\n",
      "Slash Error\n",
      "Index=58, #Pag=59, Column=3\n",
      "Hour Error\n",
      "Index=125, #Pag=126, Column=2\n",
      "Slash Error\n",
      "Index=128, #Pag=129, Column=2\n",
      "Slash Error\n",
      "Index=154, #Pag=155, Column=1\n",
      "Slash Error\n",
      "Index=164, #Pag=165, Column=1\n",
      "Slash Error\n",
      "Index=165, #Pag=166, Column=1\n",
      "Hour Error\n",
      "Index=193, #Pag=194, Column=3\n",
      "------------------------------------------------------\n"
     ]
    }
   ],
   "source": [
    "# Test the function\n",
    "date_columns = [f'DAY/TIME/ROOM{index+1}' for index in range(4)]\n",
    "detect_wrong_dates_in_df(normalized_data, date_columns) # 😱 Too many errors, there is no option but to fix these by hand ✋\n",
    "print(\"------------------------------------------------------\")"
   ]
  },
  {
   "cell_type": "markdown",
   "id": "ff06416e-9c13-47a0-aa3d-b848d6e31cc9",
   "metadata": {},
   "source": [
    "If we check out the page http://www.dci.ugto.mx/estudiantes/index.php/mcursos/horarios-licenciatura we can see that the errors are human errors and these errors are no predictable at all, so we need to fix these erros by hand 🥶\n",
    "\n",
    "### 💨 Fix 3"
   ]
  },
  {
   "cell_type": "code",
   "execution_count": 23,
   "id": "cac6f7ea-9239-4d85-922a-78e949df156f",
   "metadata": {},
   "outputs": [
    {
     "data": {
      "text/plain": [
       "'MIERCOLES/12-14F2'"
      ]
     },
     "execution_count": 23,
     "metadata": {},
     "output_type": "execute_result"
    }
   ],
   "source": [
    "# 👀 what is happening?\n",
    "normalized_data.at[3, 'DAY/TIME/ROOM2'] # It doesn't have a slash between the 14 and F2"
   ]
  },
  {
   "cell_type": "code",
   "execution_count": 24,
   "id": "f67e3d82-79da-42ab-98d1-78cdba557ff0",
   "metadata": {},
   "outputs": [
    {
     "data": {
      "text/plain": [
       "'MIERCOLES/12-14/F2'"
      ]
     },
     "execution_count": 24,
     "metadata": {},
     "output_type": "execute_result"
    }
   ],
   "source": [
    "# Corrijamos\n",
    "normalized_data.at[3, 'DAY/TIME/ROOM2'] = \"MIERCOLES/12-14/F2\" # 'MIERCOLES/12-14/F2'\n",
    "normalized_data.at[3, 'DAY/TIME/ROOM2']"
   ]
  },
  {
   "cell_type": "markdown",
   "id": "739142f5-3559-4098-af7a-fc9384110009",
   "metadata": {
    "tags": []
   },
   "source": [
    "### 💨 Fix 58"
   ]
  },
  {
   "cell_type": "code",
   "execution_count": 25,
   "id": "b9115665-505a-434d-880e-a4e9f20aab4d",
   "metadata": {},
   "outputs": [
    {
     "data": {
      "text/plain": [
       "'MIERCOLES10-12/LAB. DE FISICA MODERNA, EDIF. G'"
      ]
     },
     "execution_count": 25,
     "metadata": {},
     "output_type": "execute_result"
    }
   ],
   "source": [
    "# 👀 what is happening?\n",
    "normalized_data.at[58, 'DAY/TIME/ROOM3']"
   ]
  },
  {
   "cell_type": "code",
   "execution_count": 26,
   "id": "ae2f70d8-ccd2-4a21-ad07-e9c1b827a449",
   "metadata": {},
   "outputs": [
    {
     "data": {
      "text/plain": [
       "'MIERCOLES/10-12/LAB. DE FISICA MODERNA, EDIF. G'"
      ]
     },
     "execution_count": 26,
     "metadata": {},
     "output_type": "execute_result"
    }
   ],
   "source": [
    "normalized_data.at[58, 'DAY/TIME/ROOM3'] = \"MIERCOLES/10-12/LAB. DE FISICA MODERNA, EDIF. G\"\n",
    "normalized_data.at[58, 'DAY/TIME/ROOM3']"
   ]
  },
  {
   "cell_type": "markdown",
   "id": "1dc5ed08-cde2-40e8-b0d0-28cb46ec8451",
   "metadata": {
    "tags": []
   },
   "source": [
    "### 💨 Fix 125"
   ]
  },
  {
   "cell_type": "code",
   "execution_count": 27,
   "id": "eba56e7a-b51b-46f6-8634-f810fc396bd7",
   "metadata": {},
   "outputs": [
    {
     "data": {
      "text/plain": [
       "'MIERCOLES/14:15:30/C3'"
      ]
     },
     "execution_count": 27,
     "metadata": {},
     "output_type": "execute_result"
    }
   ],
   "source": [
    "# 👀 what is happening?\n",
    "normalized_data.at[125, 'DAY/TIME/ROOM2']"
   ]
  },
  {
   "cell_type": "code",
   "execution_count": 28,
   "id": "5a1d09e9-f11e-46ef-bcd7-010b3a37b651",
   "metadata": {},
   "outputs": [
    {
     "data": {
      "text/plain": [
       "'MIERCOLES/14-15:30/C3'"
      ]
     },
     "execution_count": 28,
     "metadata": {},
     "output_type": "execute_result"
    }
   ],
   "source": [
    "normalized_data.at[125, 'DAY/TIME/ROOM2'] = \"MIERCOLES/14-15:30/C3\"\n",
    "normalized_data.at[125, 'DAY/TIME/ROOM2']"
   ]
  },
  {
   "cell_type": "code",
   "execution_count": null,
   "id": "3681fcf5-189d-4f7b-b54a-565a9f8f2a5e",
   "metadata": {},
   "outputs": [],
   "source": []
  },
  {
   "cell_type": "markdown",
   "id": "2219a136-9271-4648-a283-4d7281da2e3b",
   "metadata": {
    "tags": []
   },
   "source": [
    "## ❌ 4. There are some fields that only distract\n",
    "Non useful fields should be dropped, like index_in_page"
   ]
  },
  {
   "cell_type": "code",
   "execution_count": 250,
   "id": "11a7be25-449c-49c0-845a-5528ae6356c9",
   "metadata": {},
   "outputs": [
    {
     "data": {
      "text/html": [
       "<div>\n",
       "<style scoped>\n",
       "    .dataframe tbody tr th:only-of-type {\n",
       "        vertical-align: middle;\n",
       "    }\n",
       "\n",
       "    .dataframe tbody tr th {\n",
       "        vertical-align: top;\n",
       "    }\n",
       "\n",
       "    .dataframe thead th {\n",
       "        text-align: right;\n",
       "    }\n",
       "</style>\n",
       "<table border=\"1\" class=\"dataframe\">\n",
       "  <thead>\n",
       "    <tr style=\"text-align: right;\">\n",
       "      <th></th>\n",
       "      <th>NAME</th>\n",
       "      <th>GROUP</th>\n",
       "      <th>DAY/TIME/ROOM1</th>\n",
       "      <th>DAY/TIME/ROOM2</th>\n",
       "      <th>DAY/TIME/ROOM3</th>\n",
       "      <th>DAY/TIME/ROOM4</th>\n",
       "      <th>PROFESSORS</th>\n",
       "      <th>PROFESSOR1</th>\n",
       "      <th>PROFESSOR2</th>\n",
       "      <th>PROFESSOR3</th>\n",
       "    </tr>\n",
       "  </thead>\n",
       "  <tbody>\n",
       "    <tr>\n",
       "      <th>0</th>\n",
       "      <td>ACABADO DEL CUERO</td>\n",
       "      <td>A</td>\n",
       "      <td>SABADO/9-13/LAB. DE CURTIDURIA, EDIF. G</td>\n",
       "      <td>NaN</td>\n",
       "      <td>NaN</td>\n",
       "      <td>NaN</td>\n",
       "      <td>JUAN FRANCISCO RAYAS ROJAS</td>\n",
       "      <td>JUAN FRANCISCO RAYAS ROJAS</td>\n",
       "      <td>NaN</td>\n",
       "      <td>NaN</td>\n",
       "    </tr>\n",
       "    <tr>\n",
       "      <th>1</th>\n",
       "      <td>ADMINISTRACION Y MANEJO DE PERSONAL</td>\n",
       "      <td>A</td>\n",
       "      <td>SABADO/9-12/F1</td>\n",
       "      <td>NaN</td>\n",
       "      <td>NaN</td>\n",
       "      <td>NaN</td>\n",
       "      <td>ALDELMO EMMANUEL ISRAEL REYES PABLO</td>\n",
       "      <td>ALDELMO EMMANUEL ISRAEL REYES PABLO</td>\n",
       "      <td>NaN</td>\n",
       "      <td>NaN</td>\n",
       "    </tr>\n",
       "    <tr>\n",
       "      <th>2</th>\n",
       "      <td>ALGEBRA LINEAL</td>\n",
       "      <td>A</td>\n",
       "      <td>MARTES/8-10/F6</td>\n",
       "      <td>JUEVES/8-10/F6</td>\n",
       "      <td>NaN</td>\n",
       "      <td>NaN</td>\n",
       "      <td>MIGUEL ANGEL VALLEJO HERNANDEZ</td>\n",
       "      <td>MIGUEL ANGEL VALLEJO HERNANDEZ</td>\n",
       "      <td>NaN</td>\n",
       "      <td>NaN</td>\n",
       "    </tr>\n",
       "  </tbody>\n",
       "</table>\n",
       "</div>"
      ],
      "text/plain": [
       "                                  NAME GROUP  \\\n",
       "0                    ACABADO DEL CUERO     A   \n",
       "1  ADMINISTRACION Y MANEJO DE PERSONAL     A   \n",
       "2                       ALGEBRA LINEAL     A   \n",
       "\n",
       "                            DAY/TIME/ROOM1  DAY/TIME/ROOM2 DAY/TIME/ROOM3  \\\n",
       "0  SABADO/9-13/LAB. DE CURTIDURIA, EDIF. G             NaN            NaN   \n",
       "1                           SABADO/9-12/F1             NaN            NaN   \n",
       "2                           MARTES/8-10/F6  JUEVES/8-10/F6            NaN   \n",
       "\n",
       "  DAY/TIME/ROOM4                           PROFESSORS  \\\n",
       "0            NaN           JUAN FRANCISCO RAYAS ROJAS   \n",
       "1            NaN  ALDELMO EMMANUEL ISRAEL REYES PABLO   \n",
       "2            NaN       MIGUEL ANGEL VALLEJO HERNANDEZ   \n",
       "\n",
       "                            PROFESSOR1 PROFESSOR2 PROFESSOR3  \n",
       "0           JUAN FRANCISCO RAYAS ROJAS        NaN        NaN  \n",
       "1  ALDELMO EMMANUEL ISRAEL REYES PABLO        NaN        NaN  \n",
       "2       MIGUEL ANGEL VALLEJO HERNANDEZ        NaN        NaN  "
      ]
     },
     "execution_count": 250,
     "metadata": {},
     "output_type": "execute_result"
    }
   ],
   "source": [
    "# Drop the index_page and change the variable name to something smaller\n",
    "# norm_df = normalized_data.drop(['index_in_page'], axis = 1)\n",
    "# norm_df.head(3)"
   ]
  },
  {
   "cell_type": "code",
   "execution_count": null,
   "id": "0a696bf8-f173-4d5a-ad0c-87c8f541d3b4",
   "metadata": {},
   "outputs": [],
   "source": []
  },
  {
   "cell_type": "code",
   "execution_count": null,
   "id": "6495fcdc-a810-460b-bcc2-5a5197449821",
   "metadata": {},
   "outputs": [],
   "source": []
  }
 ],
 "metadata": {
  "kernelspec": {
   "display_name": "Python 3 (ipykernel)",
   "language": "python",
   "name": "python3"
  },
  "language_info": {
   "codemirror_mode": {
    "name": "ipython",
    "version": 3
   },
   "file_extension": ".py",
   "mimetype": "text/x-python",
   "name": "python",
   "nbconvert_exporter": "python",
   "pygments_lexer": "ipython3",
   "version": "3.10.8"
  }
 },
 "nbformat": 4,
 "nbformat_minor": 5
}
