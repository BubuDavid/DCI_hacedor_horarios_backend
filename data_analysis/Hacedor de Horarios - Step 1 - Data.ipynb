{
 "cells": [
  {
   "cell_type": "markdown",
   "id": "edc77bea",
   "metadata": {
    "jp-MarkdownHeadingCollapsed": true,
    "tags": []
   },
   "source": [
    "# Creating our HH!\n",
    "## Step 1: Data 🗃️!\n",
    "We are going to split this step into multiple sub-steps 📄:\n",
    "1. ⛏️**Web Scraping**.\n",
    "3. 🐼**Data Transformation**L.\n",
    "4. 🧹**Data cleansing**.\n",
    "5. 📤**Export the Data**.\n",
    "---"
   ]
  },
  {
   "cell_type": "markdown",
   "id": "9acff875-7766-4164-a8e2-63464e42bb5b",
   "metadata": {
    "tags": []
   },
   "source": [
    "# 🤔 Pre-coding\n",
    "Lets define and importa some useful stuff before we start coding"
   ]
  },
  {
   "cell_type": "code",
   "execution_count": 2,
   "id": "a2e39b45-dcf7-464f-8317-b0a82eeb7a6c",
   "metadata": {},
   "outputs": [],
   "source": [
    "# Important imports\n",
    "import requests as req # Library for HTTP requests (allows you to send HTTP requests etremely easily): https://pypi.org/project/requests/\n",
    "from bs4 import BeautifulSoup # Python Library for pulling data out of HTML files (or in this case, web page): https://www.crummy.com/software/BeautifulSoup/bs4/doc/\n",
    "import pandas as pd # For Data Analysis and Manipulation in Python: https://pandas.pydata.org/\n",
    "import numpy as np # For matricial and array operations\n",
    "import unicodedata # For normalizing in function below"
   ]
  },
  {
   "cell_type": "code",
   "execution_count": 3,
   "id": "aa44cf7d-fb21-40bb-9640-96b1c81f4901",
   "metadata": {},
   "outputs": [],
   "source": [
    "# Normalize text function\n",
    "def normalize_text(word):\n",
    "    \"\"\"\n",
    "    This function takes a string 'word' and normalized\n",
    "    Example: hElLó wÓrlD = HELLO WORLD\n",
    "    \"\"\"\n",
    "    word = str(word) # Making sure this is a string\n",
    "    upper_word = word.upper() # Only upper case letters\n",
    "    striped_word = upper_word.strip() # No spaces at the beginning or end of the word\n",
    "    # No accents -> https://docs.python.org/3/library/unicodedata.html#unicodedata.normalize\n",
    "    normalized_word = ''.join([\n",
    "        letter for letter in unicodedata.normalize('NFD', striped_word)\n",
    "        if unicodedata.category(letter) != 'Mn'\n",
    "    ])\n",
    "\n",
    "    return normalized_word"
   ]
  },
  {
   "cell_type": "markdown",
   "id": "5efd679b",
   "metadata": {
    "tags": []
   },
   "source": [
    "# ⛏️Web Scraping 13/01/2022\n",
    "Is the process of extracting data from a web page, in this case we are going to use my [college page](http://www.dci.ugto.mx/estudiantes/index.php/mcursos/horarios-licenciatura) 🤗"
   ]
  },
  {
   "cell_type": "code",
   "execution_count": 4,
   "id": "2d939d9e",
   "metadata": {},
   "outputs": [],
   "source": [
    "# Request to the page function\n",
    "def request_url(url):\n",
    "    res = req.get(url)\n",
    "    if res.status_code not in range(200, 300):\n",
    "        raise Exception(\"Something wen wrong\", res.tatus_code)\n",
    "    else:\n",
    "        print(res.status_code, \"- Everythin is fine 🔥\")\n",
    "    return res"
   ]
  },
  {
   "cell_type": "code",
   "execution_count": 5,
   "id": "b0de9e9b-98a2-4849-94ba-70c90cafc621",
   "metadata": {},
   "outputs": [
    {
     "name": "stdout",
     "output_type": "stream",
     "text": [
      "200 - Everythin is fine 🔥\n",
      "b'<!DOCTYPE html>'\n"
     ]
    }
   ],
   "source": [
    "# Check our request function\n",
    "url = 'http://www.dci.ugto.mx/estudiantes/index.php/mcursos/horarios-licenciatura'\n",
    "res = request_url(url)\n",
    "content = res.content\n",
    "print(content[:15])"
   ]
  },
  {
   "cell_type": "code",
   "execution_count": 6,
   "id": "6b6e2d17-4d5d-4763-8153-53733f30bd4c",
   "metadata": {},
   "outputs": [],
   "source": [
    "# We need a beautiful soup object, not html in a string\n",
    "soup = BeautifulSoup(content, 'html.parser')\n",
    "# The schedules are in a table, lets bring it (its in the second one)\n",
    "all_tables = soup.find_all('table')\n",
    "schedule_table = all_tables[0] # 👈 THIS IS OUR TABLE\n",
    "#schedule_table"
   ]
  },
  {
   "cell_type": "markdown",
   "id": "9a2942dd-4512-481d-8c44-c797b50c47af",
   "metadata": {
    "tags": []
   },
   "source": [
    "# 🐼**Data Transformation**: We need to transform to pandas objects to make the cleaning"
   ]
  },
  {
   "cell_type": "code",
   "execution_count": 7,
   "id": "2ed425b1-8015-49f3-8495-5b13782439bd",
   "metadata": {},
   "outputs": [
    {
     "name": "stdout",
     "output_type": "stream",
     "text": [
      "# | UNIDAD DE APRENDIZAJE  | GRUPO | DÍA/HORA/AULA | DÍA/HORA/AULA | DÍA/HORA/AULA | DÍA/HORA/AULA | PROFESOR | \n",
      "index_in_page | NAME | GROUP | DAY/TIME/ROOM1 | DAY/TIME/ROOM2 | DAY/TIME/ROOM3 | DAY/TIME/ROOM4 | PROFESSORS | "
     ]
    }
   ],
   "source": [
    "# We need to check how many columns are there in http://www.dci.ugto.mx/estudiantes/index.php/mcursos/horarios-licenciatura\n",
    "# So we need each data component in the first row\n",
    "column_row = schedule_table.find_all('tr')[0] # 1st row\n",
    "# Every data component\n",
    "td_with_column_names = column_row.find_all('td')\n",
    "# Lets have a look to this column names\n",
    "for td in td_with_column_names:\n",
    "    print(td.text.replace('\\n', ''), end = \" | \")\n",
    "print()\n",
    "# I am going to change every column name to a better-shorter-normalized column name\n",
    "column_names = ['index_in_page', 'NAME', 'GROUP', 'DAY/TIME/ROOM1', 'DAY/TIME/ROOM2', 'DAY/TIME/ROOM3', 'DAY/TIME/ROOM4', 'PROFESSORS'] # 👈 THIS IS OUR COLUMN NAMES LIST\n",
    "for name in column_names:\n",
    "    print(name, end = ' | ')\n",
    "    \n",
    "# Just comparing the number of columns so there is no error\n",
    "assert len(column_names) == len(td_with_column_names), \"Don't have the same lenght! CORRECT IT!\""
   ]
  },
  {
   "cell_type": "code",
   "execution_count": 8,
   "id": "45d821ae-03f6-4f60-ba32-51ec79ea2648",
   "metadata": {},
   "outputs": [
    {
     "data": {
      "text/plain": [
       "{'index_in_page': '24',\n",
       " 'NAME': 'BIOFÍSICA MÉDICA',\n",
       " 'GROUP': 'A',\n",
       " 'DAY/TIME/ROOM1': 'MARTES/10-12/C2',\n",
       " 'DAY/TIME/ROOM2': 'MIÉRCOLES/10-12/C2',\n",
       " 'DAY/TIME/ROOM3': '',\n",
       " 'DAY/TIME/ROOM4': '',\n",
       " 'PROFESSORS': 'MODESTO ANTONIO SOSA AQUINO/VÍCTOR HUGO HERNÁNDEZ GONZÁLEZ'}"
      ]
     },
     "execution_count": 8,
     "metadata": {},
     "output_type": "execute_result"
    }
   ],
   "source": [
    "# Now we need to get the actual data IN THE ROWS\n",
    "all_rows = schedule_table.find_all('tr')\n",
    "schedules = []\n",
    "for row in all_rows[1:]: # Starts in 1 because the 0th is the row with the column names\n",
    "    tds = row.find_all('td') # Need the data of each row\n",
    "    # We are going to create a dictionary for each row\n",
    "    d_row = {}\n",
    "    for index, column in enumerate(column_names):\n",
    "        d_row[column] = tds[index].text # {column: tds[index]}\n",
    "        \n",
    "    # And we need to add it to the schedules list\n",
    "    schedules.append(d_row)\n",
    "schedules[23] # 👈 OUR SCHEDULES IN A PSEUDO-JSON FORMAT"
   ]
  },
  {
   "cell_type": "code",
   "execution_count": 9,
   "id": "3a4f2269-bb88-4715-ae6c-bf17fdcbb06c",
   "metadata": {},
   "outputs": [
    {
     "data": {
      "text/html": [
       "<div>\n",
       "<style scoped>\n",
       "    .dataframe tbody tr th:only-of-type {\n",
       "        vertical-align: middle;\n",
       "    }\n",
       "\n",
       "    .dataframe tbody tr th {\n",
       "        vertical-align: top;\n",
       "    }\n",
       "\n",
       "    .dataframe thead th {\n",
       "        text-align: right;\n",
       "    }\n",
       "</style>\n",
       "<table border=\"1\" class=\"dataframe\">\n",
       "  <thead>\n",
       "    <tr style=\"text-align: right;\">\n",
       "      <th></th>\n",
       "      <th>index_in_page</th>\n",
       "      <th>NAME</th>\n",
       "      <th>GROUP</th>\n",
       "      <th>DAY/TIME/ROOM1</th>\n",
       "      <th>DAY/TIME/ROOM2</th>\n",
       "      <th>DAY/TIME/ROOM3</th>\n",
       "      <th>DAY/TIME/ROOM4</th>\n",
       "      <th>PROFESSORS</th>\n",
       "    </tr>\n",
       "  </thead>\n",
       "  <tbody>\n",
       "    <tr>\n",
       "      <th>0</th>\n",
       "      <td>1</td>\n",
       "      <td>ADMINISTRACIÓN Y MANEJO DE PERSONAL</td>\n",
       "      <td>A</td>\n",
       "      <td>SÁBADO/9-12/F6</td>\n",
       "      <td></td>\n",
       "      <td></td>\n",
       "      <td></td>\n",
       "      <td>ALDELMO EMMANUEL ISRAEL REYES PABLO</td>\n",
       "    </tr>\n",
       "    <tr>\n",
       "      <th>1</th>\n",
       "      <td>2</td>\n",
       "      <td>ALEMÁN I</td>\n",
       "      <td>A</td>\n",
       "      <td>SÁBADO/8-11/F7</td>\n",
       "      <td></td>\n",
       "      <td></td>\n",
       "      <td></td>\n",
       "      <td>MA. ISABEL DELGADILLO CANO</td>\n",
       "    </tr>\n",
       "    <tr>\n",
       "      <th>2</th>\n",
       "      <td>3</td>\n",
       "      <td>ALGEBRA LINEAL</td>\n",
       "      <td>A</td>\n",
       "      <td>LUNES/8-10/AUDITORIO EDIF. G</td>\n",
       "      <td>MIÉRCOLES/8-10/AUDITORIO EDIF. G</td>\n",
       "      <td></td>\n",
       "      <td></td>\n",
       "      <td>MIGUEL ÁNGEL VALLEJO HERNÁNDEZ</td>\n",
       "    </tr>\n",
       "  </tbody>\n",
       "</table>\n",
       "</div>"
      ],
      "text/plain": [
       "  index_in_page                                  NAME GROUP  \\\n",
       "0             1  ADMINISTRACIÓN Y MANEJO DE PERSONAL      A   \n",
       "1             2                             ALEMÁN I      A   \n",
       "2             3                        ALGEBRA LINEAL     A   \n",
       "\n",
       "                 DAY/TIME/ROOM1                    DAY/TIME/ROOM2  \\\n",
       "0                SÁBADO/9-12/F6                                     \n",
       "1                SÁBADO/8-11/F7                                     \n",
       "2  LUNES/8-10/AUDITORIO EDIF. G  MIÉRCOLES/8-10/AUDITORIO EDIF. G   \n",
       "\n",
       "  DAY/TIME/ROOM3 DAY/TIME/ROOM4                           PROFESSORS  \n",
       "0                                ALDELMO EMMANUEL ISRAEL REYES PABLO  \n",
       "1                                         MA. ISABEL DELGADILLO CANO  \n",
       "2                                     MIGUEL ÁNGEL VALLEJO HERNÁNDEZ  "
      ]
     },
     "execution_count": 9,
     "metadata": {},
     "output_type": "execute_result"
    }
   ],
   "source": [
    "# And now we can create a pandas data frame\n",
    "raw_schedules_df = pd.DataFrame(schedules, columns = column_names)\n",
    "# I need to save this file \n",
    "raw_schedules_df.to_csv('../data/raw_schedules.csv', index=False)\n",
    "raw_schedules_df.head(3)"
   ]
  },
  {
   "cell_type": "markdown",
   "id": "352869d0-9c5b-41df-95ee-e2074841bbca",
   "metadata": {
    "tags": []
   },
   "source": [
    "# 🧹**Data cleansing**: Lets clean the data and correct some errors\n",
    "I am gonna list every error and thing as a sub-title in the following cells"
   ]
  },
  {
   "cell_type": "markdown",
   "id": "17a82999-ac23-4edf-a480-508157974d4a",
   "metadata": {},
   "source": [
    "**Note:** There are some times that the school gives me the schedules in an excel, so there is no need to scrap the data from the web page, so here I am going to bring that file"
   ]
  },
  {
   "cell_type": "code",
   "execution_count": 10,
   "id": "8b39cef4-b770-49fb-ac3d-0b52b194bcca",
   "metadata": {},
   "outputs": [
    {
     "data": {
      "text/html": [
       "<div>\n",
       "<style scoped>\n",
       "    .dataframe tbody tr th:only-of-type {\n",
       "        vertical-align: middle;\n",
       "    }\n",
       "\n",
       "    .dataframe tbody tr th {\n",
       "        vertical-align: top;\n",
       "    }\n",
       "\n",
       "    .dataframe thead th {\n",
       "        text-align: right;\n",
       "    }\n",
       "</style>\n",
       "<table border=\"1\" class=\"dataframe\">\n",
       "  <thead>\n",
       "    <tr style=\"text-align: right;\">\n",
       "      <th></th>\n",
       "      <th>index_in_page</th>\n",
       "      <th>NAME</th>\n",
       "      <th>GROUP</th>\n",
       "      <th>DAY/TIME/ROOM1</th>\n",
       "      <th>DAY/TIME/ROOM2</th>\n",
       "      <th>DAY/TIME/ROOM3</th>\n",
       "      <th>DAY/TIME/ROOM4</th>\n",
       "      <th>PROFESSORS</th>\n",
       "    </tr>\n",
       "  </thead>\n",
       "  <tbody>\n",
       "    <tr>\n",
       "      <th>0</th>\n",
       "      <td>1</td>\n",
       "      <td>ADMINISTRACIÓN Y MANEJO DE PERSONAL</td>\n",
       "      <td>A</td>\n",
       "      <td>SÁBADO/9-12/F6</td>\n",
       "      <td>NaN</td>\n",
       "      <td>NaN</td>\n",
       "      <td>NaN</td>\n",
       "      <td>ALDELMO EMMANUEL ISRAEL REYES PABLO</td>\n",
       "    </tr>\n",
       "    <tr>\n",
       "      <th>1</th>\n",
       "      <td>2</td>\n",
       "      <td>ALEMÁN I</td>\n",
       "      <td>A</td>\n",
       "      <td>SÁBADO/8-11/F7</td>\n",
       "      <td>NaN</td>\n",
       "      <td>NaN</td>\n",
       "      <td>NaN</td>\n",
       "      <td>MA. ISABEL DELGADILLO CANO</td>\n",
       "    </tr>\n",
       "    <tr>\n",
       "      <th>2</th>\n",
       "      <td>3</td>\n",
       "      <td>ALGEBRA LINEAL</td>\n",
       "      <td>A</td>\n",
       "      <td>LUNES/8-10/AUDITORIO EDIF. G</td>\n",
       "      <td>MIÉRCOLES/8-10/AUDITORIO EDIF. G</td>\n",
       "      <td>NaN</td>\n",
       "      <td>NaN</td>\n",
       "      <td>MIGUEL ÁNGEL VALLEJO HERNÁNDEZ</td>\n",
       "    </tr>\n",
       "    <tr>\n",
       "      <th>3</th>\n",
       "      <td>4</td>\n",
       "      <td>ÁLGEBRA LINEAL</td>\n",
       "      <td>B</td>\n",
       "      <td>MARTES/8-10/F1</td>\n",
       "      <td>JUEVES/8-10/F1</td>\n",
       "      <td>NaN</td>\n",
       "      <td>NaN</td>\n",
       "      <td>TEODORO CÓRDOVA FRAGA</td>\n",
       "    </tr>\n",
       "    <tr>\n",
       "      <th>4</th>\n",
       "      <td>5</td>\n",
       "      <td>ÁLGEBRA LINEAL</td>\n",
       "      <td>C</td>\n",
       "      <td>MARTES/10-12/F1</td>\n",
       "      <td>JUEVES/10-12/F1</td>\n",
       "      <td>NaN</td>\n",
       "      <td>NaN</td>\n",
       "      <td>OCTAVIO JOSÉ OBREGÓN DÍAZ</td>\n",
       "    </tr>\n",
       "    <tr>\n",
       "      <th>5</th>\n",
       "      <td>6</td>\n",
       "      <td>ÁLGEBRA LINEAL</td>\n",
       "      <td>D</td>\n",
       "      <td>MIÉRCOLES/12-14/F1</td>\n",
       "      <td>VIERNES/12-14/F1</td>\n",
       "      <td>NaN</td>\n",
       "      <td>NaN</td>\n",
       "      <td>ERASTO ORTIZ RICARDO</td>\n",
       "    </tr>\n",
       "    <tr>\n",
       "      <th>6</th>\n",
       "      <td>7</td>\n",
       "      <td>ÁLGEBRA LINEAL</td>\n",
       "      <td>E</td>\n",
       "      <td>LUNES/15-17/G1</td>\n",
       "      <td>MIÉRCOLES/15-17/G1</td>\n",
       "      <td>NaN</td>\n",
       "      <td>NaN</td>\n",
       "      <td>JOSÉ DE JESÚS BERNAL ALVARADO</td>\n",
       "    </tr>\n",
       "    <tr>\n",
       "      <th>7</th>\n",
       "      <td>8</td>\n",
       "      <td>ANÁLISIS DE CIRCUITOS</td>\n",
       "      <td>A</td>\n",
       "      <td>MARTES/8-10/LAB. DE ELECTRÓNICA EDIF. G</td>\n",
       "      <td>JUEVES/8-12/LAB. DE ELECTRÓNICA EDIF. G</td>\n",
       "      <td>NaN</td>\n",
       "      <td>NaN</td>\n",
       "      <td>CARLOS VILLASEÑOR MORA</td>\n",
       "    </tr>\n",
       "    <tr>\n",
       "      <th>8</th>\n",
       "      <td>9</td>\n",
       "      <td>ANÁLISIS DE CIRCUITOS</td>\n",
       "      <td>B</td>\n",
       "      <td>LUNES/12-16/LAB. DE ELECTRÓNICA EDIF.G</td>\n",
       "      <td>MIÉRCOLES/8-10/LAB. DE ELECTRÓNICA EDIF. G</td>\n",
       "      <td>NaN</td>\n",
       "      <td>NaN</td>\n",
       "      <td>JOSÉ MARCO BALLEZA ORDAZ</td>\n",
       "    </tr>\n",
       "    <tr>\n",
       "      <th>9</th>\n",
       "      <td>10</td>\n",
       "      <td>ANÁLISIS DE LA CULTURA MEXICANA</td>\n",
       "      <td>A</td>\n",
       "      <td>LUNES/16-19/AUDITORIO DEL EDIF. G</td>\n",
       "      <td>NaN</td>\n",
       "      <td>NaN</td>\n",
       "      <td>NaN</td>\n",
       "      <td>FERNANDO AGUAS ÁNGEL</td>\n",
       "    </tr>\n",
       "  </tbody>\n",
       "</table>\n",
       "</div>"
      ],
      "text/plain": [
       "   index_in_page                                  NAME GROUP  \\\n",
       "0              1  ADMINISTRACIÓN Y MANEJO DE PERSONAL      A   \n",
       "1              2                             ALEMÁN I      A   \n",
       "2              3                        ALGEBRA LINEAL     A   \n",
       "3              4                       ÁLGEBRA LINEAL      B   \n",
       "4              5                       ÁLGEBRA LINEAL      C   \n",
       "5              6                       ÁLGEBRA LINEAL      D   \n",
       "6              7                       ÁLGEBRA LINEAL      E   \n",
       "7              8                 ANÁLISIS DE CIRCUITOS     A   \n",
       "8              9                 ANÁLISIS DE CIRCUITOS     B   \n",
       "9             10       ANÁLISIS DE LA CULTURA MEXICANA     A   \n",
       "\n",
       "                            DAY/TIME/ROOM1  \\\n",
       "0                           SÁBADO/9-12/F6   \n",
       "1                           SÁBADO/8-11/F7   \n",
       "2             LUNES/8-10/AUDITORIO EDIF. G   \n",
       "3                           MARTES/8-10/F1   \n",
       "4                          MARTES/10-12/F1   \n",
       "5                       MIÉRCOLES/12-14/F1   \n",
       "6                           LUNES/15-17/G1   \n",
       "7  MARTES/8-10/LAB. DE ELECTRÓNICA EDIF. G   \n",
       "8   LUNES/12-16/LAB. DE ELECTRÓNICA EDIF.G   \n",
       "9        LUNES/16-19/AUDITORIO DEL EDIF. G   \n",
       "\n",
       "                               DAY/TIME/ROOM2 DAY/TIME/ROOM3 DAY/TIME/ROOM4  \\\n",
       "0                                         NaN            NaN            NaN   \n",
       "1                                         NaN            NaN            NaN   \n",
       "2            MIÉRCOLES/8-10/AUDITORIO EDIF. G            NaN            NaN   \n",
       "3                              JUEVES/8-10/F1            NaN            NaN   \n",
       "4                             JUEVES/10-12/F1            NaN            NaN   \n",
       "5                            VIERNES/12-14/F1            NaN            NaN   \n",
       "6                          MIÉRCOLES/15-17/G1            NaN            NaN   \n",
       "7     JUEVES/8-12/LAB. DE ELECTRÓNICA EDIF. G            NaN            NaN   \n",
       "8  MIÉRCOLES/8-10/LAB. DE ELECTRÓNICA EDIF. G            NaN            NaN   \n",
       "9                                         NaN            NaN            NaN   \n",
       "\n",
       "                            PROFESSORS  \n",
       "0  ALDELMO EMMANUEL ISRAEL REYES PABLO  \n",
       "1           MA. ISABEL DELGADILLO CANO  \n",
       "2       MIGUEL ÁNGEL VALLEJO HERNÁNDEZ  \n",
       "3                TEODORO CÓRDOVA FRAGA  \n",
       "4            OCTAVIO JOSÉ OBREGÓN DÍAZ  \n",
       "5                 ERASTO ORTIZ RICARDO  \n",
       "6        JOSÉ DE JESÚS BERNAL ALVARADO  \n",
       "7               CARLOS VILLASEÑOR MORA  \n",
       "8             JOSÉ MARCO BALLEZA ORDAZ  \n",
       "9                 FERNANDO AGUAS ÁNGEL  "
      ]
     },
     "execution_count": 10,
     "metadata": {},
     "output_type": "execute_result"
    }
   ],
   "source": [
    "# Reading csv document (This covers the case where school gives me an excel file before they update their page)\n",
    "raw_schedules_og_df = pd.read_csv('../data/raw_schedules.csv')\n",
    "raw_schedules_og_df.head(10)"
   ]
  },
  {
   "cell_type": "code",
   "execution_count": 11,
   "id": "372b8cc1-1394-4ee9-8d16-358f3829f2a0",
   "metadata": {},
   "outputs": [],
   "source": [
    "# Change the columns again because of the case they give me an excel file, remembering I need always this column names:\n",
    "# index_in_page | NAME | GROUP | DAY/TIME/ROOM1 | DAY/TIME/ROOM2 | DAY/TIME/ROOM3 | DAY/TIME/ROOM4 | PROFESSORS |    \n",
    "\n",
    "column_names = [\n",
    "    \"index_in_page\", \n",
    "    \"NAME\", \n",
    "    \"GROUP\", \n",
    "    \"DAY/TIME/ROOM1\",\n",
    "    \"DAY/TIME/ROOM2\",\n",
    "    \"DAY/TIME/ROOM3\",\n",
    "    \"DAY/TIME/ROOM4\",\n",
    "    \"PROFESSORS\",\n",
    "]\n",
    "\n",
    "# Just comparing the number of columns so there is no error\n",
    "assert len(column_names) == len(raw_schedules_og_df.columns), f\"Don't have the same lenght!\""
   ]
  },
  {
   "cell_type": "code",
   "execution_count": 12,
   "id": "c6c23b63-b69a-4c99-ae57-2d1ba53d0c02",
   "metadata": {},
   "outputs": [
    {
     "data": {
      "text/html": [
       "<div>\n",
       "<style scoped>\n",
       "    .dataframe tbody tr th:only-of-type {\n",
       "        vertical-align: middle;\n",
       "    }\n",
       "\n",
       "    .dataframe tbody tr th {\n",
       "        vertical-align: top;\n",
       "    }\n",
       "\n",
       "    .dataframe thead th {\n",
       "        text-align: right;\n",
       "    }\n",
       "</style>\n",
       "<table border=\"1\" class=\"dataframe\">\n",
       "  <thead>\n",
       "    <tr style=\"text-align: right;\">\n",
       "      <th></th>\n",
       "      <th>index_in_page</th>\n",
       "      <th>NAME</th>\n",
       "      <th>GROUP</th>\n",
       "      <th>DAY/TIME/ROOM1</th>\n",
       "      <th>DAY/TIME/ROOM2</th>\n",
       "      <th>DAY/TIME/ROOM3</th>\n",
       "      <th>DAY/TIME/ROOM4</th>\n",
       "      <th>PROFESSORS</th>\n",
       "    </tr>\n",
       "  </thead>\n",
       "  <tbody>\n",
       "    <tr>\n",
       "      <th>0</th>\n",
       "      <td>1</td>\n",
       "      <td>ADMINISTRACIÓN Y MANEJO DE PERSONAL</td>\n",
       "      <td>A</td>\n",
       "      <td>SÁBADO/9-12/F6</td>\n",
       "      <td>NaN</td>\n",
       "      <td>NaN</td>\n",
       "      <td>NaN</td>\n",
       "      <td>ALDELMO EMMANUEL ISRAEL REYES PABLO</td>\n",
       "    </tr>\n",
       "    <tr>\n",
       "      <th>1</th>\n",
       "      <td>2</td>\n",
       "      <td>ALEMÁN I</td>\n",
       "      <td>A</td>\n",
       "      <td>SÁBADO/8-11/F7</td>\n",
       "      <td>NaN</td>\n",
       "      <td>NaN</td>\n",
       "      <td>NaN</td>\n",
       "      <td>MA. ISABEL DELGADILLO CANO</td>\n",
       "    </tr>\n",
       "    <tr>\n",
       "      <th>2</th>\n",
       "      <td>3</td>\n",
       "      <td>ALGEBRA LINEAL</td>\n",
       "      <td>A</td>\n",
       "      <td>LUNES/8-10/AUDITORIO EDIF. G</td>\n",
       "      <td>MIÉRCOLES/8-10/AUDITORIO EDIF. G</td>\n",
       "      <td>NaN</td>\n",
       "      <td>NaN</td>\n",
       "      <td>MIGUEL ÁNGEL VALLEJO HERNÁNDEZ</td>\n",
       "    </tr>\n",
       "    <tr>\n",
       "      <th>3</th>\n",
       "      <td>4</td>\n",
       "      <td>ÁLGEBRA LINEAL</td>\n",
       "      <td>B</td>\n",
       "      <td>MARTES/8-10/F1</td>\n",
       "      <td>JUEVES/8-10/F1</td>\n",
       "      <td>NaN</td>\n",
       "      <td>NaN</td>\n",
       "      <td>TEODORO CÓRDOVA FRAGA</td>\n",
       "    </tr>\n",
       "    <tr>\n",
       "      <th>4</th>\n",
       "      <td>5</td>\n",
       "      <td>ÁLGEBRA LINEAL</td>\n",
       "      <td>C</td>\n",
       "      <td>MARTES/10-12/F1</td>\n",
       "      <td>JUEVES/10-12/F1</td>\n",
       "      <td>NaN</td>\n",
       "      <td>NaN</td>\n",
       "      <td>OCTAVIO JOSÉ OBREGÓN DÍAZ</td>\n",
       "    </tr>\n",
       "    <tr>\n",
       "      <th>5</th>\n",
       "      <td>6</td>\n",
       "      <td>ÁLGEBRA LINEAL</td>\n",
       "      <td>D</td>\n",
       "      <td>MIÉRCOLES/12-14/F1</td>\n",
       "      <td>VIERNES/12-14/F1</td>\n",
       "      <td>NaN</td>\n",
       "      <td>NaN</td>\n",
       "      <td>ERASTO ORTIZ RICARDO</td>\n",
       "    </tr>\n",
       "    <tr>\n",
       "      <th>6</th>\n",
       "      <td>7</td>\n",
       "      <td>ÁLGEBRA LINEAL</td>\n",
       "      <td>E</td>\n",
       "      <td>LUNES/15-17/G1</td>\n",
       "      <td>MIÉRCOLES/15-17/G1</td>\n",
       "      <td>NaN</td>\n",
       "      <td>NaN</td>\n",
       "      <td>JOSÉ DE JESÚS BERNAL ALVARADO</td>\n",
       "    </tr>\n",
       "    <tr>\n",
       "      <th>7</th>\n",
       "      <td>8</td>\n",
       "      <td>ANÁLISIS DE CIRCUITOS</td>\n",
       "      <td>A</td>\n",
       "      <td>MARTES/8-10/LAB. DE ELECTRÓNICA EDIF. G</td>\n",
       "      <td>JUEVES/8-12/LAB. DE ELECTRÓNICA EDIF. G</td>\n",
       "      <td>NaN</td>\n",
       "      <td>NaN</td>\n",
       "      <td>CARLOS VILLASEÑOR MORA</td>\n",
       "    </tr>\n",
       "    <tr>\n",
       "      <th>8</th>\n",
       "      <td>9</td>\n",
       "      <td>ANÁLISIS DE CIRCUITOS</td>\n",
       "      <td>B</td>\n",
       "      <td>LUNES/12-16/LAB. DE ELECTRÓNICA EDIF.G</td>\n",
       "      <td>MIÉRCOLES/8-10/LAB. DE ELECTRÓNICA EDIF. G</td>\n",
       "      <td>NaN</td>\n",
       "      <td>NaN</td>\n",
       "      <td>JOSÉ MARCO BALLEZA ORDAZ</td>\n",
       "    </tr>\n",
       "    <tr>\n",
       "      <th>9</th>\n",
       "      <td>10</td>\n",
       "      <td>ANÁLISIS DE LA CULTURA MEXICANA</td>\n",
       "      <td>A</td>\n",
       "      <td>LUNES/16-19/AUDITORIO DEL EDIF. G</td>\n",
       "      <td>NaN</td>\n",
       "      <td>NaN</td>\n",
       "      <td>NaN</td>\n",
       "      <td>FERNANDO AGUAS ÁNGEL</td>\n",
       "    </tr>\n",
       "  </tbody>\n",
       "</table>\n",
       "</div>"
      ],
      "text/plain": [
       "   index_in_page                                  NAME GROUP  \\\n",
       "0              1  ADMINISTRACIÓN Y MANEJO DE PERSONAL      A   \n",
       "1              2                             ALEMÁN I      A   \n",
       "2              3                        ALGEBRA LINEAL     A   \n",
       "3              4                       ÁLGEBRA LINEAL      B   \n",
       "4              5                       ÁLGEBRA LINEAL      C   \n",
       "5              6                       ÁLGEBRA LINEAL      D   \n",
       "6              7                       ÁLGEBRA LINEAL      E   \n",
       "7              8                 ANÁLISIS DE CIRCUITOS     A   \n",
       "8              9                 ANÁLISIS DE CIRCUITOS     B   \n",
       "9             10       ANÁLISIS DE LA CULTURA MEXICANA     A   \n",
       "\n",
       "                            DAY/TIME/ROOM1  \\\n",
       "0                           SÁBADO/9-12/F6   \n",
       "1                           SÁBADO/8-11/F7   \n",
       "2             LUNES/8-10/AUDITORIO EDIF. G   \n",
       "3                           MARTES/8-10/F1   \n",
       "4                          MARTES/10-12/F1   \n",
       "5                       MIÉRCOLES/12-14/F1   \n",
       "6                           LUNES/15-17/G1   \n",
       "7  MARTES/8-10/LAB. DE ELECTRÓNICA EDIF. G   \n",
       "8   LUNES/12-16/LAB. DE ELECTRÓNICA EDIF.G   \n",
       "9        LUNES/16-19/AUDITORIO DEL EDIF. G   \n",
       "\n",
       "                               DAY/TIME/ROOM2 DAY/TIME/ROOM3 DAY/TIME/ROOM4  \\\n",
       "0                                         NaN            NaN            NaN   \n",
       "1                                         NaN            NaN            NaN   \n",
       "2            MIÉRCOLES/8-10/AUDITORIO EDIF. G            NaN            NaN   \n",
       "3                              JUEVES/8-10/F1            NaN            NaN   \n",
       "4                             JUEVES/10-12/F1            NaN            NaN   \n",
       "5                            VIERNES/12-14/F1            NaN            NaN   \n",
       "6                          MIÉRCOLES/15-17/G1            NaN            NaN   \n",
       "7     JUEVES/8-12/LAB. DE ELECTRÓNICA EDIF. G            NaN            NaN   \n",
       "8  MIÉRCOLES/8-10/LAB. DE ELECTRÓNICA EDIF. G            NaN            NaN   \n",
       "9                                         NaN            NaN            NaN   \n",
       "\n",
       "                            PROFESSORS  \n",
       "0  ALDELMO EMMANUEL ISRAEL REYES PABLO  \n",
       "1           MA. ISABEL DELGADILLO CANO  \n",
       "2       MIGUEL ÁNGEL VALLEJO HERNÁNDEZ  \n",
       "3                TEODORO CÓRDOVA FRAGA  \n",
       "4            OCTAVIO JOSÉ OBREGÓN DÍAZ  \n",
       "5                 ERASTO ORTIZ RICARDO  \n",
       "6        JOSÉ DE JESÚS BERNAL ALVARADO  \n",
       "7               CARLOS VILLASEÑOR MORA  \n",
       "8             JOSÉ MARCO BALLEZA ORDAZ  \n",
       "9                 FERNANDO AGUAS ÁNGEL  "
      ]
     },
     "execution_count": 12,
     "metadata": {},
     "output_type": "execute_result"
    }
   ],
   "source": [
    "# Create the replace dictionary for the rename function for pandas\n",
    "column_replace_dict = {og_col: new_col for og_col, new_col in zip(raw_schedules_og_df.columns, column_names)}\n",
    "# Replace the column names\n",
    "raw_schedules_df = raw_schedules_og_df.rename(columns = column_replace_dict)\n",
    "raw_schedules_df.head(10)"
   ]
  },
  {
   "cell_type": "markdown",
   "id": "e8d88f7c-d67d-4835-b8e9-93bf3175e359",
   "metadata": {
    "tags": []
   },
   "source": [
    "## ❌ 1. Accents and upper letters\n",
    "We need to normalize every field (we could do this before in the data extract part, but I think is better to separate things correctly)"
   ]
  },
  {
   "cell_type": "code",
   "execution_count": 13,
   "id": "960bd380-6e09-425a-bef7-f33765607c1b",
   "metadata": {},
   "outputs": [],
   "source": [
    "# Function for normalizing the df with help of our function in 🤔 Pre-coding part: \"normalize_text\"\n",
    "def normalize_df(column):\n",
    "    normalized_column = [] # A list for the normalized column\n",
    "    for cell in column:\n",
    "        normalized_column.append(normalize_text(cell))\n",
    "\n",
    "    return normalized_column"
   ]
  },
  {
   "cell_type": "code",
   "execution_count": 14,
   "id": "f84d59bf-2044-46f1-a00b-7955a15cdf77",
   "metadata": {},
   "outputs": [
    {
     "data": {
      "text/html": [
       "<div>\n",
       "<style scoped>\n",
       "    .dataframe tbody tr th:only-of-type {\n",
       "        vertical-align: middle;\n",
       "    }\n",
       "\n",
       "    .dataframe tbody tr th {\n",
       "        vertical-align: top;\n",
       "    }\n",
       "\n",
       "    .dataframe thead th {\n",
       "        text-align: right;\n",
       "    }\n",
       "</style>\n",
       "<table border=\"1\" class=\"dataframe\">\n",
       "  <thead>\n",
       "    <tr style=\"text-align: right;\">\n",
       "      <th></th>\n",
       "      <th>index_in_page</th>\n",
       "      <th>NAME</th>\n",
       "      <th>GROUP</th>\n",
       "      <th>DAY/TIME/ROOM1</th>\n",
       "      <th>DAY/TIME/ROOM2</th>\n",
       "      <th>DAY/TIME/ROOM3</th>\n",
       "      <th>DAY/TIME/ROOM4</th>\n",
       "      <th>PROFESSORS</th>\n",
       "    </tr>\n",
       "  </thead>\n",
       "  <tbody>\n",
       "    <tr>\n",
       "      <th>0</th>\n",
       "      <td>1</td>\n",
       "      <td>ADMINISTRACION Y MANEJO DE PERSONAL</td>\n",
       "      <td>A</td>\n",
       "      <td>SABADO/9-12/F6</td>\n",
       "      <td>NAN</td>\n",
       "      <td>NAN</td>\n",
       "      <td>NAN</td>\n",
       "      <td>ALDELMO EMMANUEL ISRAEL REYES PABLO</td>\n",
       "    </tr>\n",
       "    <tr>\n",
       "      <th>1</th>\n",
       "      <td>2</td>\n",
       "      <td>ALEMAN I</td>\n",
       "      <td>A</td>\n",
       "      <td>SABADO/8-11/F7</td>\n",
       "      <td>NAN</td>\n",
       "      <td>NAN</td>\n",
       "      <td>NAN</td>\n",
       "      <td>MA. ISABEL DELGADILLO CANO</td>\n",
       "    </tr>\n",
       "    <tr>\n",
       "      <th>2</th>\n",
       "      <td>3</td>\n",
       "      <td>ALGEBRA LINEAL</td>\n",
       "      <td>A</td>\n",
       "      <td>LUNES/8-10/AUDITORIO EDIF. G</td>\n",
       "      <td>MIERCOLES/8-10/AUDITORIO EDIF. G</td>\n",
       "      <td>NAN</td>\n",
       "      <td>NAN</td>\n",
       "      <td>MIGUEL ANGEL VALLEJO HERNANDEZ</td>\n",
       "    </tr>\n",
       "    <tr>\n",
       "      <th>3</th>\n",
       "      <td>4</td>\n",
       "      <td>ALGEBRA LINEAL</td>\n",
       "      <td>B</td>\n",
       "      <td>MARTES/8-10/F1</td>\n",
       "      <td>JUEVES/8-10/F1</td>\n",
       "      <td>NAN</td>\n",
       "      <td>NAN</td>\n",
       "      <td>TEODORO CORDOVA FRAGA</td>\n",
       "    </tr>\n",
       "    <tr>\n",
       "      <th>4</th>\n",
       "      <td>5</td>\n",
       "      <td>ALGEBRA LINEAL</td>\n",
       "      <td>C</td>\n",
       "      <td>MARTES/10-12/F1</td>\n",
       "      <td>JUEVES/10-12/F1</td>\n",
       "      <td>NAN</td>\n",
       "      <td>NAN</td>\n",
       "      <td>OCTAVIO JOSE OBREGON DIAZ</td>\n",
       "    </tr>\n",
       "    <tr>\n",
       "      <th>5</th>\n",
       "      <td>6</td>\n",
       "      <td>ALGEBRA LINEAL</td>\n",
       "      <td>D</td>\n",
       "      <td>MIERCOLES/12-14/F1</td>\n",
       "      <td>VIERNES/12-14/F1</td>\n",
       "      <td>NAN</td>\n",
       "      <td>NAN</td>\n",
       "      <td>ERASTO ORTIZ RICARDO</td>\n",
       "    </tr>\n",
       "    <tr>\n",
       "      <th>6</th>\n",
       "      <td>7</td>\n",
       "      <td>ALGEBRA LINEAL</td>\n",
       "      <td>E</td>\n",
       "      <td>LUNES/15-17/G1</td>\n",
       "      <td>MIERCOLES/15-17/G1</td>\n",
       "      <td>NAN</td>\n",
       "      <td>NAN</td>\n",
       "      <td>JOSE DE JESUS BERNAL ALVARADO</td>\n",
       "    </tr>\n",
       "    <tr>\n",
       "      <th>7</th>\n",
       "      <td>8</td>\n",
       "      <td>ANALISIS DE CIRCUITOS</td>\n",
       "      <td>A</td>\n",
       "      <td>MARTES/8-10/LAB. DE ELECTRONICA EDIF. G</td>\n",
       "      <td>JUEVES/8-12/LAB. DE ELECTRONICA EDIF. G</td>\n",
       "      <td>NAN</td>\n",
       "      <td>NAN</td>\n",
       "      <td>CARLOS VILLASENOR MORA</td>\n",
       "    </tr>\n",
       "    <tr>\n",
       "      <th>8</th>\n",
       "      <td>9</td>\n",
       "      <td>ANALISIS DE CIRCUITOS</td>\n",
       "      <td>B</td>\n",
       "      <td>LUNES/12-16/LAB. DE ELECTRONICA EDIF.G</td>\n",
       "      <td>MIERCOLES/8-10/LAB. DE ELECTRONICA EDIF. G</td>\n",
       "      <td>NAN</td>\n",
       "      <td>NAN</td>\n",
       "      <td>JOSE MARCO BALLEZA ORDAZ</td>\n",
       "    </tr>\n",
       "    <tr>\n",
       "      <th>9</th>\n",
       "      <td>10</td>\n",
       "      <td>ANALISIS DE LA CULTURA MEXICANA</td>\n",
       "      <td>A</td>\n",
       "      <td>LUNES/16-19/AUDITORIO DEL EDIF. G</td>\n",
       "      <td>NAN</td>\n",
       "      <td>NAN</td>\n",
       "      <td>NAN</td>\n",
       "      <td>FERNANDO AGUAS ANGEL</td>\n",
       "    </tr>\n",
       "  </tbody>\n",
       "</table>\n",
       "</div>"
      ],
      "text/plain": [
       "  index_in_page                                 NAME GROUP  \\\n",
       "0             1  ADMINISTRACION Y MANEJO DE PERSONAL     A   \n",
       "1             2                             ALEMAN I     A   \n",
       "2             3                       ALGEBRA LINEAL     A   \n",
       "3             4                       ALGEBRA LINEAL     B   \n",
       "4             5                       ALGEBRA LINEAL     C   \n",
       "5             6                       ALGEBRA LINEAL     D   \n",
       "6             7                       ALGEBRA LINEAL     E   \n",
       "7             8                ANALISIS DE CIRCUITOS     A   \n",
       "8             9                ANALISIS DE CIRCUITOS     B   \n",
       "9            10      ANALISIS DE LA CULTURA MEXICANA     A   \n",
       "\n",
       "                            DAY/TIME/ROOM1  \\\n",
       "0                           SABADO/9-12/F6   \n",
       "1                           SABADO/8-11/F7   \n",
       "2             LUNES/8-10/AUDITORIO EDIF. G   \n",
       "3                           MARTES/8-10/F1   \n",
       "4                          MARTES/10-12/F1   \n",
       "5                       MIERCOLES/12-14/F1   \n",
       "6                           LUNES/15-17/G1   \n",
       "7  MARTES/8-10/LAB. DE ELECTRONICA EDIF. G   \n",
       "8   LUNES/12-16/LAB. DE ELECTRONICA EDIF.G   \n",
       "9        LUNES/16-19/AUDITORIO DEL EDIF. G   \n",
       "\n",
       "                               DAY/TIME/ROOM2 DAY/TIME/ROOM3 DAY/TIME/ROOM4  \\\n",
       "0                                         NAN            NAN            NAN   \n",
       "1                                         NAN            NAN            NAN   \n",
       "2            MIERCOLES/8-10/AUDITORIO EDIF. G            NAN            NAN   \n",
       "3                              JUEVES/8-10/F1            NAN            NAN   \n",
       "4                             JUEVES/10-12/F1            NAN            NAN   \n",
       "5                            VIERNES/12-14/F1            NAN            NAN   \n",
       "6                          MIERCOLES/15-17/G1            NAN            NAN   \n",
       "7     JUEVES/8-12/LAB. DE ELECTRONICA EDIF. G            NAN            NAN   \n",
       "8  MIERCOLES/8-10/LAB. DE ELECTRONICA EDIF. G            NAN            NAN   \n",
       "9                                         NAN            NAN            NAN   \n",
       "\n",
       "                            PROFESSORS  \n",
       "0  ALDELMO EMMANUEL ISRAEL REYES PABLO  \n",
       "1           MA. ISABEL DELGADILLO CANO  \n",
       "2       MIGUEL ANGEL VALLEJO HERNANDEZ  \n",
       "3                TEODORO CORDOVA FRAGA  \n",
       "4            OCTAVIO JOSE OBREGON DIAZ  \n",
       "5                 ERASTO ORTIZ RICARDO  \n",
       "6        JOSE DE JESUS BERNAL ALVARADO  \n",
       "7               CARLOS VILLASENOR MORA  \n",
       "8             JOSE MARCO BALLEZA ORDAZ  \n",
       "9                 FERNANDO AGUAS ANGEL  "
      ]
     },
     "execution_count": 14,
     "metadata": {},
     "output_type": "execute_result"
    }
   ],
   "source": [
    "normalized_data = raw_schedules_df.apply(normalize_df)\n",
    "normalized_data.head(10) # 👈 OUR DATA NORMALIZED"
   ]
  },
  {
   "cell_type": "markdown",
   "id": "51c0d5cd-35e0-48df-bb10-6d29a0c5f024",
   "metadata": {
    "tags": []
   },
   "source": [
    "## ❌ 2. Professors Together\n",
    "There are some subject with more than 1 professor (because of labs or something else), so we need to generate a field for each professor. When this happens, every profressor is separated with a '/' character, so we can use that for creating the new fields"
   ]
  },
  {
   "cell_type": "code",
   "execution_count": 15,
   "id": "c3df5ec3-886b-4091-9a10-b8a850c1ac63",
   "metadata": {},
   "outputs": [
    {
     "data": {
      "text/plain": [
       "[['MODESTO ANTONIO SOSA AQUINO',\n",
       "  'ARTURO GONZALEZ VEGA',\n",
       "  'TEODORO CORDOVA FRAGA',\n",
       "  'FRANCISCO MIGUEL VARGAS LUNA'],\n",
       " ['TEODORO CORDOVA FRAGA']]"
      ]
     },
     "execution_count": 15,
     "metadata": {},
     "output_type": "execute_result"
    }
   ],
   "source": [
    "# Grab the professor list\n",
    "professor_list = normalized_data['PROFESSORS'].to_list()\n",
    "# Split all this professors in a matrix\n",
    "professor_matrix = [professor.split('/') for professor in professor_list]\n",
    "# We need to re-normalize this matrix because it can be there are some not-wanted spaces\n",
    "for i in range(len(professor_matrix)):\n",
    "    for j in range(len(professor_matrix[i])):\n",
    "        professor_matrix[i][j] = normalize_text(professor_matrix[i][j])\n",
    "# As an example, lets see some multiple professors\n",
    "professor_matrix[20:22] # One subject with 1 professor and the next one with 3 professors"
   ]
  },
  {
   "cell_type": "code",
   "execution_count": 16,
   "id": "ffcefe66-25fc-4b3e-928b-f1c4941affae",
   "metadata": {},
   "outputs": [
    {
     "name": "stdout",
     "output_type": "stream",
     "text": [
      "The max of professors per subject is: 4\n"
     ]
    }
   ],
   "source": [
    "# We need to know how many create so lets calculate it\n",
    "max_professors = 0\n",
    "for professors in professor_matrix:\n",
    "    max_professors = max(len(professors), max_professors)\n",
    "    \n",
    "print(\"The max of professors per subject is:\", max_professors)"
   ]
  },
  {
   "cell_type": "code",
   "execution_count": 17,
   "id": "9c8ae5a2-9ce4-49b8-b8be-07679105d931",
   "metadata": {},
   "outputs": [
    {
     "data": {
      "text/plain": [
       "[['MODESTO ANTONIO SOSA AQUINO',\n",
       "  'ARTURO GONZALEZ VEGA',\n",
       "  'TEODORO CORDOVA FRAGA',\n",
       "  'FRANCISCO MIGUEL VARGAS LUNA'],\n",
       " ['TEODORO CORDOVA FRAGA', '', '', '']]"
      ]
     },
     "execution_count": 17,
     "metadata": {},
     "output_type": "execute_result"
    }
   ],
   "source": [
    "# And we need to add the missing columns as blank to professor matrix so its not sparse\n",
    "for i in range(len(professor_matrix)):\n",
    "    for missing in range(max_professors - len(professor_matrix[i])):\n",
    "        professor_matrix[i].append('')\n",
    "        \n",
    "professor_matrix[20:22]"
   ]
  },
  {
   "cell_type": "code",
   "execution_count": 18,
   "id": "1d574164-e223-4eac-9293-71f96e4a72a3",
   "metadata": {},
   "outputs": [
    {
     "data": {
      "text/plain": [
       "['PROFESSOR1', 'PROFESSOR2', 'PROFESSOR3', 'PROFESSOR4']"
      ]
     },
     "execution_count": 18,
     "metadata": {},
     "output_type": "execute_result"
    }
   ],
   "source": [
    "# So new fields are:\n",
    "professor_columns = [f\"PROFESSOR{index + 1}\" for index in range(max_professors)]\n",
    "professor_columns"
   ]
  },
  {
   "cell_type": "code",
   "execution_count": 19,
   "id": "5c41b293-41fc-4dd6-928e-28c82c86c36e",
   "metadata": {},
   "outputs": [],
   "source": [
    "# Lets create this fields in our df\n",
    "normalized_data[professor_columns] = professor_matrix"
   ]
  },
  {
   "cell_type": "code",
   "execution_count": 20,
   "id": "1d2c3411-94f9-4228-b357-2d9d0137cac9",
   "metadata": {},
   "outputs": [
    {
     "data": {
      "text/html": [
       "<div>\n",
       "<style scoped>\n",
       "    .dataframe tbody tr th:only-of-type {\n",
       "        vertical-align: middle;\n",
       "    }\n",
       "\n",
       "    .dataframe tbody tr th {\n",
       "        vertical-align: top;\n",
       "    }\n",
       "\n",
       "    .dataframe thead th {\n",
       "        text-align: right;\n",
       "    }\n",
       "</style>\n",
       "<table border=\"1\" class=\"dataframe\">\n",
       "  <thead>\n",
       "    <tr style=\"text-align: right;\">\n",
       "      <th></th>\n",
       "      <th>index_in_page</th>\n",
       "      <th>NAME</th>\n",
       "      <th>GROUP</th>\n",
       "      <th>DAY/TIME/ROOM1</th>\n",
       "      <th>DAY/TIME/ROOM2</th>\n",
       "      <th>DAY/TIME/ROOM3</th>\n",
       "      <th>DAY/TIME/ROOM4</th>\n",
       "      <th>PROFESSORS</th>\n",
       "      <th>PROFESSOR1</th>\n",
       "      <th>PROFESSOR2</th>\n",
       "      <th>PROFESSOR3</th>\n",
       "      <th>PROFESSOR4</th>\n",
       "    </tr>\n",
       "  </thead>\n",
       "  <tbody>\n",
       "    <tr>\n",
       "      <th>20</th>\n",
       "      <td>21</td>\n",
       "      <td>BASES FISICAS PARA EL DIAGNOSTICO POR IMAGENES</td>\n",
       "      <td>A</td>\n",
       "      <td>MARTES/15-18/C2</td>\n",
       "      <td>VIERNES/12-15/C3</td>\n",
       "      <td>NAN</td>\n",
       "      <td>NAN</td>\n",
       "      <td>MODESTO ANTONIO SOSA AQUINO/ARTURO GONZALEZ VE...</td>\n",
       "      <td>MODESTO ANTONIO SOSA AQUINO</td>\n",
       "      <td>ARTURO GONZALEZ VEGA</td>\n",
       "      <td>TEODORO CORDOVA FRAGA</td>\n",
       "      <td>FRANCISCO MIGUEL VARGAS LUNA</td>\n",
       "    </tr>\n",
       "    <tr>\n",
       "      <th>21</th>\n",
       "      <td>22</td>\n",
       "      <td>BIOESTADISTICA</td>\n",
       "      <td>A</td>\n",
       "      <td>LUNES/8-10/F8</td>\n",
       "      <td>VIERNES/8-10/F2</td>\n",
       "      <td>NAN</td>\n",
       "      <td>NAN</td>\n",
       "      <td>TEODORO CORDOVA FRAGA</td>\n",
       "      <td>TEODORO CORDOVA FRAGA</td>\n",
       "      <td></td>\n",
       "      <td></td>\n",
       "      <td></td>\n",
       "    </tr>\n",
       "  </tbody>\n",
       "</table>\n",
       "</div>"
      ],
      "text/plain": [
       "   index_in_page                                            NAME GROUP  \\\n",
       "20            21  BASES FISICAS PARA EL DIAGNOSTICO POR IMAGENES     A   \n",
       "21            22                                  BIOESTADISTICA     A   \n",
       "\n",
       "     DAY/TIME/ROOM1    DAY/TIME/ROOM2 DAY/TIME/ROOM3 DAY/TIME/ROOM4  \\\n",
       "20  MARTES/15-18/C2  VIERNES/12-15/C3            NAN            NAN   \n",
       "21    LUNES/8-10/F8   VIERNES/8-10/F2            NAN            NAN   \n",
       "\n",
       "                                           PROFESSORS  \\\n",
       "20  MODESTO ANTONIO SOSA AQUINO/ARTURO GONZALEZ VE...   \n",
       "21                              TEODORO CORDOVA FRAGA   \n",
       "\n",
       "                     PROFESSOR1            PROFESSOR2             PROFESSOR3  \\\n",
       "20  MODESTO ANTONIO SOSA AQUINO  ARTURO GONZALEZ VEGA  TEODORO CORDOVA FRAGA   \n",
       "21        TEODORO CORDOVA FRAGA                                                \n",
       "\n",
       "                      PROFESSOR4  \n",
       "20  FRANCISCO MIGUEL VARGAS LUNA  \n",
       "21                                "
      ]
     },
     "execution_count": 20,
     "metadata": {},
     "output_type": "execute_result"
    }
   ],
   "source": [
    "normalized_data[20:22] # Lets check some records in the df # 👈 THIS IS OUR CORRECT DF FOR CLEANSING"
   ]
  },
  {
   "cell_type": "markdown",
   "id": "ad08f1b0-8708-4025-99c5-b0125df3abf2",
   "metadata": {
    "tags": []
   },
   "source": [
    "## ❌ 3. Empty cells\n",
    "If there are empty fields (other than DAY/TIME/ROOM fields because empty cells in this fields is normal) then we need to fix it because that means something is wrong with the algorithm"
   ]
  },
  {
   "cell_type": "code",
   "execution_count": 21,
   "id": "7dd66db0-c12c-4a8e-b690-41d89ad05250",
   "metadata": {},
   "outputs": [],
   "source": [
    "# First of all, lets standard the spaces and blank spaces to np.nan objects\n",
    "normalized_data = normalized_data.replace(r'^\\s*$', np.nan, regex=True)\n",
    "normalized_data = normalized_data.replace('NAN', np.nan)"
   ]
  },
  {
   "cell_type": "code",
   "execution_count": 22,
   "id": "67275e42-8309-4623-843c-3762979282b5",
   "metadata": {},
   "outputs": [
    {
     "data": {
      "text/html": [
       "<div>\n",
       "<style scoped>\n",
       "    .dataframe tbody tr th:only-of-type {\n",
       "        vertical-align: middle;\n",
       "    }\n",
       "\n",
       "    .dataframe tbody tr th {\n",
       "        vertical-align: top;\n",
       "    }\n",
       "\n",
       "    .dataframe thead th {\n",
       "        text-align: right;\n",
       "    }\n",
       "</style>\n",
       "<table border=\"1\" class=\"dataframe\">\n",
       "  <thead>\n",
       "    <tr style=\"text-align: right;\">\n",
       "      <th></th>\n",
       "      <th>index_in_page</th>\n",
       "      <th>NAME</th>\n",
       "      <th>GROUP</th>\n",
       "      <th>DAY/TIME/ROOM1</th>\n",
       "      <th>DAY/TIME/ROOM2</th>\n",
       "      <th>DAY/TIME/ROOM3</th>\n",
       "      <th>DAY/TIME/ROOM4</th>\n",
       "      <th>PROFESSORS</th>\n",
       "      <th>PROFESSOR1</th>\n",
       "      <th>PROFESSOR2</th>\n",
       "      <th>PROFESSOR3</th>\n",
       "      <th>PROFESSOR4</th>\n",
       "    </tr>\n",
       "  </thead>\n",
       "  <tbody>\n",
       "    <tr>\n",
       "      <th>0</th>\n",
       "      <td>1</td>\n",
       "      <td>ADMINISTRACION Y MANEJO DE PERSONAL</td>\n",
       "      <td>A</td>\n",
       "      <td>SABADO/9-12/F6</td>\n",
       "      <td>NaN</td>\n",
       "      <td>NaN</td>\n",
       "      <td>NaN</td>\n",
       "      <td>ALDELMO EMMANUEL ISRAEL REYES PABLO</td>\n",
       "      <td>ALDELMO EMMANUEL ISRAEL REYES PABLO</td>\n",
       "      <td>NaN</td>\n",
       "      <td>NaN</td>\n",
       "      <td>NaN</td>\n",
       "    </tr>\n",
       "    <tr>\n",
       "      <th>1</th>\n",
       "      <td>2</td>\n",
       "      <td>ALEMAN I</td>\n",
       "      <td>A</td>\n",
       "      <td>SABADO/8-11/F7</td>\n",
       "      <td>NaN</td>\n",
       "      <td>NaN</td>\n",
       "      <td>NaN</td>\n",
       "      <td>MA. ISABEL DELGADILLO CANO</td>\n",
       "      <td>MA. ISABEL DELGADILLO CANO</td>\n",
       "      <td>NaN</td>\n",
       "      <td>NaN</td>\n",
       "      <td>NaN</td>\n",
       "    </tr>\n",
       "    <tr>\n",
       "      <th>2</th>\n",
       "      <td>3</td>\n",
       "      <td>ALGEBRA LINEAL</td>\n",
       "      <td>A</td>\n",
       "      <td>LUNES/8-10/AUDITORIO EDIF. G</td>\n",
       "      <td>MIERCOLES/8-10/AUDITORIO EDIF. G</td>\n",
       "      <td>NaN</td>\n",
       "      <td>NaN</td>\n",
       "      <td>MIGUEL ANGEL VALLEJO HERNANDEZ</td>\n",
       "      <td>MIGUEL ANGEL VALLEJO HERNANDEZ</td>\n",
       "      <td>NaN</td>\n",
       "      <td>NaN</td>\n",
       "      <td>NaN</td>\n",
       "    </tr>\n",
       "  </tbody>\n",
       "</table>\n",
       "</div>"
      ],
      "text/plain": [
       "  index_in_page                                 NAME GROUP  \\\n",
       "0             1  ADMINISTRACION Y MANEJO DE PERSONAL     A   \n",
       "1             2                             ALEMAN I     A   \n",
       "2             3                       ALGEBRA LINEAL     A   \n",
       "\n",
       "                 DAY/TIME/ROOM1                    DAY/TIME/ROOM2  \\\n",
       "0                SABADO/9-12/F6                               NaN   \n",
       "1                SABADO/8-11/F7                               NaN   \n",
       "2  LUNES/8-10/AUDITORIO EDIF. G  MIERCOLES/8-10/AUDITORIO EDIF. G   \n",
       "\n",
       "  DAY/TIME/ROOM3 DAY/TIME/ROOM4                           PROFESSORS  \\\n",
       "0            NaN            NaN  ALDELMO EMMANUEL ISRAEL REYES PABLO   \n",
       "1            NaN            NaN           MA. ISABEL DELGADILLO CANO   \n",
       "2            NaN            NaN       MIGUEL ANGEL VALLEJO HERNANDEZ   \n",
       "\n",
       "                            PROFESSOR1 PROFESSOR2 PROFESSOR3 PROFESSOR4  \n",
       "0  ALDELMO EMMANUEL ISRAEL REYES PABLO        NaN        NaN        NaN  \n",
       "1           MA. ISABEL DELGADILLO CANO        NaN        NaN        NaN  \n",
       "2       MIGUEL ANGEL VALLEJO HERNANDEZ        NaN        NaN        NaN  "
      ]
     },
     "execution_count": 22,
     "metadata": {},
     "output_type": "execute_result"
    }
   ],
   "source": [
    "normalized_data.head(3) # 👈 STILL OUR DF"
   ]
  },
  {
   "cell_type": "code",
   "execution_count": 23,
   "id": "1c3b97a4-e29c-4b54-b3f0-0524f598e992",
   "metadata": {},
   "outputs": [],
   "source": [
    "# Function to detect if there is an empty cell where it should not be.\n",
    "def detect_empty_cells(df, columns):\n",
    "    # Save indices in a list 👇\n",
    "    empty_cells_index = []\n",
    "    # Loop for know if it is empty\n",
    "    for index in range(len(df)):\n",
    "        for column in columns:\n",
    "            # print(type(df.at[index, column]), df.at[index, column])\n",
    "            if pd.isna(df.at[index, column]) or df.at[index, column] == 'NAN' or df.at[index, column] == '':\n",
    "                empty_cells_index.append([index, column])\n",
    "                \n",
    "    return empty_cells_index"
   ]
  },
  {
   "cell_type": "code",
   "execution_count": 24,
   "id": "232d23df-6bcd-43e9-97e7-913fa7fae325",
   "metadata": {},
   "outputs": [],
   "source": [
    "# Probemos esta función\n",
    "columns_to_check = ['NAME', 'GROUP', 'DAY/TIME/ROOM1', 'PROFESSORS', 'PROFESSOR1'] # We only care if these fields are empty becuase that means something is wrong\n",
    "empty_rows = detect_empty_cells(normalized_data, columns_to_check)\n",
    "\n",
    "assert not empty_rows, f\"It shouldn't be an empty cell in here 👉 {empty_rows}!\" # If there are empty rows we need to compare with the link http://www.dci.ugto.mx/estudiantes/index.php/mcursos/horarios-licenciatura\n",
    "# If this empty data comes from the data source (the page or excel file) we cannot do anything to correct it, it is school obligation"
   ]
  },
  {
   "cell_type": "code",
   "execution_count": 25,
   "id": "01c5f6ef-f1e0-4c6d-a2c1-a2554724ff8c",
   "metadata": {
    "scrolled": true
   },
   "outputs": [],
   "source": [
    "# Only when we are sure all this records are empty because of the page (and not because of our fault) we can correct them put something like \"PENDIENTE\"\n",
    "row = 0\n",
    "while row < len(empty_rows):\n",
    "    print(empty_rows[row][0] + 1, empty_rows[row][1])\n",
    "    if empty_rows[row][1] == 'PROFESSORS':\n",
    "        row += 1\n",
    "    row += 1"
   ]
  },
  {
   "cell_type": "code",
   "execution_count": 27,
   "id": "b4422952-d2cc-4591-8e7d-96466c4612f6",
   "metadata": {},
   "outputs": [],
   "source": [
    "for row in empty_rows:\n",
    "    normalized_data.at[row[0], row[1]] = 'PENDIENTE'\n",
    "    \n",
    "empty_rows2 = detect_empty_cells(normalized_data, columns_to_check)\n",
    "\n",
    "assert not empty_rows2, f\"It shouldn't be an empty cell in here 👉 {empty_rows2}!\" # If there are empty rows we need to compare with the link http://www.dci.ugto.mx/estudiantes/index.php/mcursos/horarios-licenciatura\n",
    "# If this empty data comes from the data source (the page or excel file) we cannot do anything to correct it, it is school obligation"
   ]
  },
  {
   "cell_type": "markdown",
   "id": "43ccffcc-3f0f-447e-b226-12c98f351693",
   "metadata": {
    "tags": []
   },
   "source": [
    "## ❌ 4. Errors in DAY/TIME/ROOM fields\n",
    "We need to format this field form, I choose:\n",
    "\n",
    "_day/start_hour-end_hour/room_\n",
    "\n",
    "por ejemplo:\n",
    "\n",
    "_LUNES/14-16/F9_\n",
    "\n",
    "Lunes is Monday in Spanish and F9 is the class room name.\n",
    "In the following code we are going to fix the schedules that do not comply with the format 👇."
   ]
  },
  {
   "cell_type": "code",
   "execution_count": 29,
   "id": "c33c0457-cf50-438d-ba26-8efa241a4d68",
   "metadata": {},
   "outputs": [],
   "source": [
    "# Function to detect a bad format in dates (date by date)\n",
    "def detect_wrong_dates(date):\n",
    "    # We're not checking NAN values\n",
    "    if date == 'NAN' or pd.isna(date) or date == 'PENDIENTE':\n",
    "        return False, None\n",
    "    # Split for each \"/\" to obtain every DAY/TIME/ROOM\n",
    "    date_split = date.split('/')\n",
    "\n",
    "    # With this we can find 2 possible errors\n",
    "    # 1. The date field does not have 3 \"/\"\n",
    "    # 2. That, the start-end time does not have any \"-\" \n",
    "\n",
    "    # Detect the 1st\n",
    "    if len(date_split) != 3:\n",
    "        return True, 'Slash'\n",
    "\n",
    "    # Detect the 2nd\n",
    "    hours = date_split[1] # Porque queremos checar la hora\n",
    "    if hours and len(hours.split('-')) != 2:\n",
    "        return True, 'Hour'\n",
    "        \n",
    "        \n",
    "    return False, None"
   ]
  },
  {
   "cell_type": "code",
   "execution_count": 30,
   "id": "23c39d4c-35de-4ec1-b2d5-e88a72147f4f",
   "metadata": {},
   "outputs": [],
   "source": [
    "# The above 👆 function only works for one date, we need to create a function that runs that 👆 function for all the df\n",
    "def detect_wrong_dates_in_df(df, date_columns):\n",
    "    # Iterating over rows\n",
    "    for index, row in df.iterrows():\n",
    "        for column in date_columns:\n",
    "            detection = detect_wrong_dates(row[column])\n",
    "            if detection[0]:\n",
    "                print(f'{detection[1]} Error')\n",
    "                print(f\"Index={index}, #Pag={row['index_in_page']}, Column={column[-1]}\")"
   ]
  },
  {
   "cell_type": "code",
   "execution_count": 31,
   "id": "cbed9523-6f40-4be8-8f98-2f48edbb3db0",
   "metadata": {},
   "outputs": [
    {
     "name": "stdout",
     "output_type": "stream",
     "text": [
      "Slash Error\n",
      "Index=10, #Pag=11, Column=1\n",
      "Slash Error\n",
      "Index=19, #Pag=20, Column=2\n",
      "Slash Error\n",
      "Index=28, #Pag=29, Column=4\n",
      "Slash Error\n",
      "Index=44, #Pag=45, Column=1\n",
      "Slash Error\n",
      "Index=47, #Pag=48, Column=2\n",
      "Slash Error\n",
      "Index=143, #Pag=144, Column=2\n",
      "Slash Error\n",
      "Index=172, #Pag=173, Column=1\n",
      "------------------------------------------------------\n"
     ]
    }
   ],
   "source": [
    "# Test the function\n",
    "date_columns = [f'DAY/TIME/ROOM{index+1}' for index in range(4)]\n",
    "detect_wrong_dates_in_df(normalized_data, date_columns) # 😱 Too many errors, there is no option but to fix these by hand ✋\n",
    "print(\"------------------------------------------------------\")"
   ]
  },
  {
   "cell_type": "markdown",
   "id": "ff06416e-9c13-47a0-aa3d-b848d6e31cc9",
   "metadata": {},
   "source": [
    "If we check out the page http://www.dci.ugto.mx/estudiantes/index.php/mcursos/horarios-licenciatura we can see that the errors are human errors and these errors are no predictable at all, so we need to fix these erros by hand 🥶\n",
    "\n",
    "### 💨 Fix 10"
   ]
  },
  {
   "cell_type": "code",
   "execution_count": 32,
   "id": "cac6f7ea-9239-4d85-922a-78e949df156f",
   "metadata": {},
   "outputs": [
    {
     "data": {
      "text/plain": [
       "'MARTES15-17/F8'"
      ]
     },
     "execution_count": 32,
     "metadata": {},
     "output_type": "execute_result"
    }
   ],
   "source": [
    "# 👀 what is happening?\n",
    "normalized_data.at[10, 'DAY/TIME/ROOM1'] # It doesn't have a slash between the 14 and F2"
   ]
  },
  {
   "cell_type": "code",
   "execution_count": 33,
   "id": "f67e3d82-79da-42ab-98d1-78cdba557ff0",
   "metadata": {},
   "outputs": [
    {
     "data": {
      "text/plain": [
       "'MARTES/15-17/F8'"
      ]
     },
     "execution_count": 33,
     "metadata": {},
     "output_type": "execute_result"
    }
   ],
   "source": [
    "# Corrijamos\n",
    "normalized_data.at[10, 'DAY/TIME/ROOM1'] = \"MARTES/15-17/F8\" # 'MARTES/15-17/F8'\n",
    "normalized_data.at[10, 'DAY/TIME/ROOM1']"
   ]
  },
  {
   "cell_type": "markdown",
   "id": "739142f5-3559-4098-af7a-fc9384110009",
   "metadata": {
    "tags": []
   },
   "source": [
    "### 💨 Fix 19"
   ]
  },
  {
   "cell_type": "code",
   "execution_count": 34,
   "id": "b9115665-505a-434d-880e-a4e9f20aab4d",
   "metadata": {},
   "outputs": [
    {
     "data": {
      "text/plain": [
       "'VIERNES/15-17F7'"
      ]
     },
     "execution_count": 34,
     "metadata": {},
     "output_type": "execute_result"
    }
   ],
   "source": [
    "# 👀 what is happening?\n",
    "normalized_data.at[19, 'DAY/TIME/ROOM2']"
   ]
  },
  {
   "cell_type": "code",
   "execution_count": 35,
   "id": "ae2f70d8-ccd2-4a21-ad07-e9c1b827a449",
   "metadata": {},
   "outputs": [
    {
     "data": {
      "text/plain": [
       "'VIERNES/15-17/F7'"
      ]
     },
     "execution_count": 35,
     "metadata": {},
     "output_type": "execute_result"
    }
   ],
   "source": [
    "normalized_data.at[19, 'DAY/TIME/ROOM2'] = \"VIERNES/15-17/F7\"\n",
    "normalized_data.at[19, 'DAY/TIME/ROOM2']"
   ]
  },
  {
   "cell_type": "markdown",
   "id": "1dc5ed08-cde2-40e8-b0d0-28cb46ec8451",
   "metadata": {
    "tags": []
   },
   "source": [
    "### 💨 Fix 28"
   ]
  },
  {
   "cell_type": "code",
   "execution_count": 36,
   "id": "eba56e7a-b51b-46f6-8634-f810fc396bd7",
   "metadata": {},
   "outputs": [
    {
     "data": {
      "text/plain": [
       "'VIERNES/8-11LAB. DE BIOLOGIA EDIF. G'"
      ]
     },
     "execution_count": 36,
     "metadata": {},
     "output_type": "execute_result"
    }
   ],
   "source": [
    "# 👀 what is happening?\n",
    "normalized_data.at[28, 'DAY/TIME/ROOM4']"
   ]
  },
  {
   "cell_type": "code",
   "execution_count": 37,
   "id": "5a1d09e9-f11e-46ef-bcd7-010b3a37b651",
   "metadata": {},
   "outputs": [
    {
     "data": {
      "text/plain": [
       "'VIERNES/8-11/LAB. DE BIOLOGIA EDIF. G'"
      ]
     },
     "execution_count": 37,
     "metadata": {},
     "output_type": "execute_result"
    }
   ],
   "source": [
    "normalized_data.at[28, 'DAY/TIME/ROOM4'] = 'VIERNES/8-11/LAB. DE BIOLOGIA EDIF. G'\n",
    "normalized_data.at[28, 'DAY/TIME/ROOM4']"
   ]
  },
  {
   "cell_type": "markdown",
   "id": "ddc3fd8a-0104-4805-bb1a-df0eaea61399",
   "metadata": {},
   "source": [
    "### 💨 Fix 44"
   ]
  },
  {
   "cell_type": "code",
   "execution_count": 38,
   "id": "ca5bc076-f015-4667-ac4b-941e4bf579b4",
   "metadata": {},
   "outputs": [
    {
     "data": {
      "text/plain": [
       "'MARTES/15-17F2'"
      ]
     },
     "execution_count": 38,
     "metadata": {},
     "output_type": "execute_result"
    }
   ],
   "source": [
    "# 👀 what is happening?\n",
    "normalized_data.at[44, 'DAY/TIME/ROOM1']"
   ]
  },
  {
   "cell_type": "code",
   "execution_count": 39,
   "id": "3a07085b-dd18-4ea1-a71d-2b84159ee3bb",
   "metadata": {},
   "outputs": [
    {
     "data": {
      "text/plain": [
       "'MARTES/15-17/F2'"
      ]
     },
     "execution_count": 39,
     "metadata": {},
     "output_type": "execute_result"
    }
   ],
   "source": [
    "normalized_data.at[44, 'DAY/TIME/ROOM1'] = 'MARTES/15-17/F2'\n",
    "normalized_data.at[44, 'DAY/TIME/ROOM1']"
   ]
  },
  {
   "cell_type": "markdown",
   "id": "6a75a5d0-7f9a-4b09-9427-059ba76f51a5",
   "metadata": {},
   "source": [
    "### 💨 Fix 47"
   ]
  },
  {
   "cell_type": "code",
   "execution_count": 40,
   "id": "95e024ff-ff94-4698-acb9-261618438c68",
   "metadata": {},
   "outputs": [
    {
     "data": {
      "text/plain": [
       "'VIERNES/ 17-19//SALA DE JUNTAS EDIF. B'"
      ]
     },
     "execution_count": 40,
     "metadata": {},
     "output_type": "execute_result"
    }
   ],
   "source": [
    "# 👀 what is happening?\n",
    "normalized_data.at[47, 'DAY/TIME/ROOM2']"
   ]
  },
  {
   "cell_type": "code",
   "execution_count": 41,
   "id": "7261e096-4b63-4a4f-828e-acf45cb6b9be",
   "metadata": {},
   "outputs": [
    {
     "data": {
      "text/plain": [
       "'VIERNES/17-19/SALA DE JUNTAS EDIF. B'"
      ]
     },
     "execution_count": 41,
     "metadata": {},
     "output_type": "execute_result"
    }
   ],
   "source": [
    "normalized_data.at[47, 'DAY/TIME/ROOM2'] = 'VIERNES/17-19/SALA DE JUNTAS EDIF. B'\n",
    "normalized_data.at[47, 'DAY/TIME/ROOM2']"
   ]
  },
  {
   "cell_type": "markdown",
   "id": "c3106b2e-c64e-4f27-93ff-b3f33e9a6f63",
   "metadata": {},
   "source": [
    "### 💨 Fix 143"
   ]
  },
  {
   "cell_type": "code",
   "execution_count": 43,
   "id": "c831ab23-0fb4-4aaf-9ae6-373d731b3751",
   "metadata": {},
   "outputs": [
    {
     "data": {
      "text/plain": [
       "'MIERCOLES12-14/C2'"
      ]
     },
     "execution_count": 43,
     "metadata": {},
     "output_type": "execute_result"
    }
   ],
   "source": [
    "# 👀 what is happening?\n",
    "normalized_data.at[143, 'DAY/TIME/ROOM2']"
   ]
  },
  {
   "cell_type": "code",
   "execution_count": 44,
   "id": "bd7972f4-b6f8-4ee9-b326-4f0c10d8945d",
   "metadata": {},
   "outputs": [
    {
     "data": {
      "text/plain": [
       "'MIERCOLES/12-14/C2'"
      ]
     },
     "execution_count": 44,
     "metadata": {},
     "output_type": "execute_result"
    }
   ],
   "source": [
    "normalized_data.at[143, 'DAY/TIME/ROOM2'] = 'MIERCOLES/12-14/C2'\n",
    "normalized_data.at[143, 'DAY/TIME/ROOM2']"
   ]
  },
  {
   "cell_type": "markdown",
   "id": "835320d8-dd59-4a55-b93f-4336e71afa2a",
   "metadata": {},
   "source": [
    "### 💨 Fix 172"
   ]
  },
  {
   "cell_type": "code",
   "execution_count": 45,
   "id": "6e75fe52-d33f-43c5-ae84-62f54eda293c",
   "metadata": {},
   "outputs": [
    {
     "data": {
      "text/plain": [
       "'JUEVES15-18/AUDITORIO DE EDIF. G'"
      ]
     },
     "execution_count": 45,
     "metadata": {},
     "output_type": "execute_result"
    }
   ],
   "source": [
    "# 👀 what is happening?\n",
    "normalized_data.at[172, 'DAY/TIME/ROOM1']"
   ]
  },
  {
   "cell_type": "code",
   "execution_count": 46,
   "id": "56875387-eaf9-4c66-b706-ed757bd1f5d8",
   "metadata": {},
   "outputs": [
    {
     "data": {
      "text/plain": [
       "'JUEVES/15-18/AUDITORIO DE EDIF. G'"
      ]
     },
     "execution_count": 46,
     "metadata": {},
     "output_type": "execute_result"
    }
   ],
   "source": [
    "normalized_data.at[172, 'DAY/TIME/ROOM1'] = 'JUEVES/15-18/AUDITORIO DE EDIF. G'\n",
    "normalized_data.at[172, 'DAY/TIME/ROOM1']"
   ]
  },
  {
   "cell_type": "code",
   "execution_count": 47,
   "id": "9ba81677-014c-4e02-a772-21a328e28979",
   "metadata": {},
   "outputs": [],
   "source": [
    "# Lets look for errors again in case we didn't fix them all\n",
    "detect_wrong_dates_in_df(normalized_data, date_columns) # ✨ No more date errors"
   ]
  },
  {
   "cell_type": "markdown",
   "id": "6d33d259-ec7f-4e3f-955b-82226aed0b5a",
   "metadata": {
    "tags": []
   },
   "source": [
    "## 🤔 5. Add useful fields\n",
    "For making things easier in the algorithm part, I need to add some fields, that are already in the table, but in a different way. Example: Separate DAY/TIME/ROOM in a field called DAY, another field called TIME and another field called ROOM.\n",
    "\n",
    "And, even thought this gonna be akward, I need to add the index (not the index_in_page) for tracking propuses in the database, I am going to add the _ID column"
   ]
  },
  {
   "cell_type": "code",
   "execution_count": 48,
   "id": "9d1da8cc-0caa-435b-8a0e-f6efe7bdd99a",
   "metadata": {},
   "outputs": [
    {
     "data": {
      "text/html": [
       "<div>\n",
       "<style scoped>\n",
       "    .dataframe tbody tr th:only-of-type {\n",
       "        vertical-align: middle;\n",
       "    }\n",
       "\n",
       "    .dataframe tbody tr th {\n",
       "        vertical-align: top;\n",
       "    }\n",
       "\n",
       "    .dataframe thead th {\n",
       "        text-align: right;\n",
       "    }\n",
       "</style>\n",
       "<table border=\"1\" class=\"dataframe\">\n",
       "  <thead>\n",
       "    <tr style=\"text-align: right;\">\n",
       "      <th></th>\n",
       "      <th>_ID</th>\n",
       "      <th>index_in_page</th>\n",
       "      <th>NAME</th>\n",
       "      <th>GROUP</th>\n",
       "      <th>DAY/TIME/ROOM1</th>\n",
       "      <th>DAY/TIME/ROOM2</th>\n",
       "      <th>DAY/TIME/ROOM3</th>\n",
       "      <th>DAY/TIME/ROOM4</th>\n",
       "      <th>PROFESSORS</th>\n",
       "      <th>PROFESSOR1</th>\n",
       "      <th>...</th>\n",
       "      <th>ROOM1</th>\n",
       "      <th>DAY2</th>\n",
       "      <th>TIME2</th>\n",
       "      <th>ROOM2</th>\n",
       "      <th>DAY3</th>\n",
       "      <th>TIME3</th>\n",
       "      <th>ROOM3</th>\n",
       "      <th>DAY4</th>\n",
       "      <th>TIME4</th>\n",
       "      <th>ROOM4</th>\n",
       "    </tr>\n",
       "  </thead>\n",
       "  <tbody>\n",
       "    <tr>\n",
       "      <th>0</th>\n",
       "      <td>0</td>\n",
       "      <td>1</td>\n",
       "      <td>ADMINISTRACION Y MANEJO DE PERSONAL</td>\n",
       "      <td>A</td>\n",
       "      <td>SABADO/9-12/F6</td>\n",
       "      <td>NaN</td>\n",
       "      <td>NaN</td>\n",
       "      <td>NaN</td>\n",
       "      <td>ALDELMO EMMANUEL ISRAEL REYES PABLO</td>\n",
       "      <td>ALDELMO EMMANUEL ISRAEL REYES PABLO</td>\n",
       "      <td>...</td>\n",
       "      <td>F6</td>\n",
       "      <td>NaN</td>\n",
       "      <td>NaN</td>\n",
       "      <td>NaN</td>\n",
       "      <td>NaN</td>\n",
       "      <td>NaN</td>\n",
       "      <td>NaN</td>\n",
       "      <td>NaN</td>\n",
       "      <td>NaN</td>\n",
       "      <td>NaN</td>\n",
       "    </tr>\n",
       "    <tr>\n",
       "      <th>1</th>\n",
       "      <td>1</td>\n",
       "      <td>2</td>\n",
       "      <td>ALEMAN I</td>\n",
       "      <td>A</td>\n",
       "      <td>SABADO/8-11/F7</td>\n",
       "      <td>NaN</td>\n",
       "      <td>NaN</td>\n",
       "      <td>NaN</td>\n",
       "      <td>MA. ISABEL DELGADILLO CANO</td>\n",
       "      <td>MA. ISABEL DELGADILLO CANO</td>\n",
       "      <td>...</td>\n",
       "      <td>F7</td>\n",
       "      <td>NaN</td>\n",
       "      <td>NaN</td>\n",
       "      <td>NaN</td>\n",
       "      <td>NaN</td>\n",
       "      <td>NaN</td>\n",
       "      <td>NaN</td>\n",
       "      <td>NaN</td>\n",
       "      <td>NaN</td>\n",
       "      <td>NaN</td>\n",
       "    </tr>\n",
       "    <tr>\n",
       "      <th>2</th>\n",
       "      <td>2</td>\n",
       "      <td>3</td>\n",
       "      <td>ALGEBRA LINEAL</td>\n",
       "      <td>A</td>\n",
       "      <td>LUNES/8-10/AUDITORIO EDIF. G</td>\n",
       "      <td>MIERCOLES/8-10/AUDITORIO EDIF. G</td>\n",
       "      <td>NaN</td>\n",
       "      <td>NaN</td>\n",
       "      <td>MIGUEL ANGEL VALLEJO HERNANDEZ</td>\n",
       "      <td>MIGUEL ANGEL VALLEJO HERNANDEZ</td>\n",
       "      <td>...</td>\n",
       "      <td>AUDITORIO EDIF. G</td>\n",
       "      <td>MIERCOLES</td>\n",
       "      <td>8-10</td>\n",
       "      <td>AUDITORIO EDIF. G</td>\n",
       "      <td>NaN</td>\n",
       "      <td>NaN</td>\n",
       "      <td>NaN</td>\n",
       "      <td>NaN</td>\n",
       "      <td>NaN</td>\n",
       "      <td>NaN</td>\n",
       "    </tr>\n",
       "  </tbody>\n",
       "</table>\n",
       "<p>3 rows × 25 columns</p>\n",
       "</div>"
      ],
      "text/plain": [
       "   _ID index_in_page                                 NAME GROUP  \\\n",
       "0    0             1  ADMINISTRACION Y MANEJO DE PERSONAL     A   \n",
       "1    1             2                             ALEMAN I     A   \n",
       "2    2             3                       ALGEBRA LINEAL     A   \n",
       "\n",
       "                 DAY/TIME/ROOM1                    DAY/TIME/ROOM2  \\\n",
       "0                SABADO/9-12/F6                               NaN   \n",
       "1                SABADO/8-11/F7                               NaN   \n",
       "2  LUNES/8-10/AUDITORIO EDIF. G  MIERCOLES/8-10/AUDITORIO EDIF. G   \n",
       "\n",
       "  DAY/TIME/ROOM3 DAY/TIME/ROOM4                           PROFESSORS  \\\n",
       "0            NaN            NaN  ALDELMO EMMANUEL ISRAEL REYES PABLO   \n",
       "1            NaN            NaN           MA. ISABEL DELGADILLO CANO   \n",
       "2            NaN            NaN       MIGUEL ANGEL VALLEJO HERNANDEZ   \n",
       "\n",
       "                            PROFESSOR1  ...              ROOM1       DAY2  \\\n",
       "0  ALDELMO EMMANUEL ISRAEL REYES PABLO  ...                 F6        NaN   \n",
       "1           MA. ISABEL DELGADILLO CANO  ...                 F7        NaN   \n",
       "2       MIGUEL ANGEL VALLEJO HERNANDEZ  ...  AUDITORIO EDIF. G  MIERCOLES   \n",
       "\n",
       "  TIME2              ROOM2 DAY3 TIME3 ROOM3 DAY4 TIME4 ROOM4  \n",
       "0   NaN                NaN  NaN   NaN   NaN  NaN   NaN   NaN  \n",
       "1   NaN                NaN  NaN   NaN   NaN  NaN   NaN   NaN  \n",
       "2  8-10  AUDITORIO EDIF. G  NaN   NaN   NaN  NaN   NaN   NaN  \n",
       "\n",
       "[3 rows x 25 columns]"
      ]
     },
     "execution_count": 48,
     "metadata": {},
     "output_type": "execute_result"
    }
   ],
   "source": [
    "date_column = [column_name for column_name in normalized_data.columns if 'DAY/' in column_name]\n",
    "\n",
    "for index, column in enumerate(date_column):\n",
    "    normalized_data[f\"DAY{index + 1}\"] = list(map(lambda day: day.split('/')[0].strip() if not pd.isna(day) and day  != 'PENDIENTE' and day else np.nan, normalized_data[column].tolist()))\n",
    "    normalized_data[f\"TIME{index + 1}\"] = list(map(lambda time: time.split('/')[1].strip() if not pd.isna(time) and time  != 'PENDIENTE' and time else np.nan, normalized_data[column].tolist()))\n",
    "    normalized_data[f\"ROOM{index + 1}\"] = list(map(lambda room: room.split('/')[2].strip() if not pd.isna(room) and room  != 'PENDIENTE' and room else np.nan, normalized_data[column].tolist()))\n",
    "\n",
    "try:\n",
    "    normalized_data.insert(0, '_ID', range(0, len(normalized_data)))\n",
    "except:\n",
    "    pass\n",
    "\n",
    "normalized_data.head(3)"
   ]
  },
  {
   "cell_type": "code",
   "execution_count": 49,
   "id": "bdb91a8e-b7eb-45f4-b5a4-e32c2115d975",
   "metadata": {},
   "outputs": [
    {
     "data": {
      "text/plain": [
       "[[22, 'ROOM1']]"
      ]
     },
     "execution_count": 49,
     "metadata": {},
     "output_type": "execute_result"
    }
   ],
   "source": [
    "# we need to check out if there is any empty cell again\n",
    "room_cols = ['ROOM1']\n",
    "empty_rows3 = detect_empty_cells(normalized_data, room_cols)\n",
    "empty_rows3"
   ]
  },
  {
   "cell_type": "code",
   "execution_count": 50,
   "id": "d2a8eb43-1246-43c6-93f9-70e8282be791",
   "metadata": {},
   "outputs": [],
   "source": [
    "for row in empty_rows3:\n",
    "    normalized_data.at[row[0], row[1]] = 'PENDIENTE'\n",
    "    \n",
    "empty_rows3 = detect_empty_cells(normalized_data, columns_to_check)\n",
    "\n",
    "assert not empty_rows3, f\"It shouldn't be an empty cell in here 👉 {empty_rows2}!\" # If there are empty rows we need to compare with the link http://www.dci.ugto.mx/estudiantes/index.php/mcursos/horarios-licenciatura\n",
    "# If this empty data comes from the data source (the page or excel file) we cannot do anything to correct it, it is school obligation"
   ]
  },
  {
   "cell_type": "markdown",
   "id": "f5f7690a-40c6-405b-a2ce-312ba4281285",
   "metadata": {
    "tags": []
   },
   "source": [
    "## ❌ 6. Remove the NAN and replace it with a blank space\n",
    "For the frontend we will need to remove all the NaN data and just to update them to a '' blank space."
   ]
  },
  {
   "cell_type": "code",
   "execution_count": 51,
   "id": "41f4fa8f-c5aa-41c8-8e06-59f5423bfb51",
   "metadata": {},
   "outputs": [],
   "source": [
    "#normalized_data = normalized_data.replace(np.nan, '', regex=True)\n",
    "#normalized_data.head(3)"
   ]
  },
  {
   "cell_type": "markdown",
   "id": "c36a0f75-602b-4a23-9577-97198a92352b",
   "metadata": {},
   "source": [
    "## ❌ 7. Check the correct data type in each column\n",
    "We need to be sure that, for example, every professor, name, group and Day field starts with a letter, and every TIME starts and ends with a number."
   ]
  },
  {
   "cell_type": "code",
   "execution_count": 134,
   "id": "33fd6e40-8147-470f-8d63-eb0efe58ebb1",
   "metadata": {},
   "outputs": [],
   "source": [
    "def check_initial_letter(df, column_name):\n",
    "    for index, name in enumerate(df[column_name]):\n",
    "        string_name = str(name).strip()\n",
    "        # print(index, string_name, column_name)\n",
    "        if string_name:\n",
    "            if not (string_name[0].isalpha() and string_name[-1].isalpha() or string_name[-1].isdigit()):\n",
    "                return f\"The record -> {index} in column -> {column_name} does not start or end with a letter -> {name}\"\n",
    "        \n",
    "    return False\n",
    "        \n",
    "def check_initial_number(df, column_name):\n",
    "    for index, name in enumerate(df[column_name]):\n",
    "        string_name = str(name).strip()\n",
    "        if (string_name and string_name.upper() != 'NAN') and not (string_name[0].isdigit() and string_name[-1].isdigit()):\n",
    "            return f\"The record -> {index} in column -> {column_name} does not start or end with a number -> {name}\"\n",
    "        \n",
    "    return False\n"
   ]
  },
  {
   "cell_type": "code",
   "execution_count": 135,
   "id": "45af1a1e-c7a8-459d-b664-042c501c699b",
   "metadata": {},
   "outputs": [
    {
     "name": "stdout",
     "output_type": "stream",
     "text": [
      "The record -> 22 in column -> DAY/TIME/ROOM1 does not start or end with a letter -> MARTES/8-10/\n",
      "The record -> 22 in column -> DAY/TIME/ROOM2 does not start or end with a letter -> JUEVES/8-10/\n"
     ]
    }
   ],
   "source": [
    "letter_columns = [\n",
    "    'NAME', \n",
    "    'GROUP',\n",
    "    'DAY/TIME/ROOM1',\n",
    "    'DAY/TIME/ROOM2',\n",
    "    'DAY/TIME/ROOM3',\n",
    "    'DAY/TIME/ROOM4',\n",
    "    'DAY1',\n",
    "    'DAY2',\n",
    "    'DAY3',\n",
    "    'DAY4',\n",
    "    'PROFESSORS',\n",
    "    'PROFESSOR1',\n",
    "    'PROFESSOR2',\n",
    "    'PROFESSOR3',\n",
    "    'PROFESSOR4',\n",
    "    'ROOM1',\n",
    "    'ROOM2',\n",
    "    'ROOM3',\n",
    "    'ROOM4',\n",
    "]\n",
    "number_columns = [\n",
    "    \"_ID\",\n",
    "    \"TIME1\",\n",
    "    \"TIME2\",\n",
    "    \"TIME3\",\n",
    "    \"TIME4\",\n",
    "    \"index_in_page\"\n",
    "]\n",
    "\n",
    "ignored_columns= [ # We do not need to check all the data because it is probable we are not going to use all the columns\n",
    "]\n",
    "\n",
    "missing = [miss for miss in normalized_data.columns if miss not in letter_columns and miss not in number_columns and miss not in ignored_columns]\n",
    "# Asserting we are checking all the columns\n",
    "assert len(letter_columns) + len(number_columns) + len(ignored_columns) == len(normalized_data.columns), f\"{len(letter_columns) + len(number_columns)} -> {len(normalized_data.columns)}. \\nMissing -> {missing}\"\n",
    "\n",
    "# Check letter data\n",
    "for column in letter_columns:\n",
    "    error = check_initial_letter(normalized_data, column)\n",
    "    if error: print(error)\n",
    "    \n",
    "# Check number data\n",
    "for column in number_columns:\n",
    "    error = check_initial_number(normalized_data, column)\n",
    "    if error: print(error)"
   ]
  },
  {
   "cell_type": "markdown",
   "id": "46f60094-7dd4-4b36-a246-f73fa8f3bedb",
   "metadata": {
    "tags": []
   },
   "source": [
    "# 📤**Export the Data**\n",
    "We are done with the data analysis and cleaning, we can now export this file to create the algorithm for create the schedule combinations"
   ]
  },
  {
   "cell_type": "code",
   "execution_count": 55,
   "id": "d5471ab3-eecc-4ff9-928c-17ce37a30f76",
   "metadata": {},
   "outputs": [],
   "source": [
    "# In JSON because that is how the data is going to be loaded from the request to the API\n",
    "# normalized_data.to_json('../data/clean_schedules.json', orient = 'records')\n",
    "# Lets import in csv because we are going to use airtable and that is the format used there\n",
    "normalized_data.to_csv('../data/clean_schedules.csv', index = False)"
   ]
  },
  {
   "cell_type": "markdown",
   "id": "d8704b8e-ae48-4b18-a620-4db1c9ecb61a",
   "metadata": {
    "tags": []
   },
   "source": [
    "# 🤔 What is next?\n",
    "Now that I have the clean data in a CSV format, this file is going to be used to create (or update) a table in Airtable, which I am going to use in the following steps for creating the algorithm for making the schedule combinations."
   ]
  },
  {
   "cell_type": "markdown",
   "id": "6e4cbe10",
   "metadata": {},
   "source": [
    "# 👾 Extra\n",
    "Comparing past data with current data:"
   ]
  },
  {
   "cell_type": "code",
   "execution_count": 67,
   "id": "3124be06",
   "metadata": {},
   "outputs": [
    {
     "data": {
      "text/html": [
       "<div>\n",
       "<style scoped>\n",
       "    .dataframe tbody tr th:only-of-type {\n",
       "        vertical-align: middle;\n",
       "    }\n",
       "\n",
       "    .dataframe tbody tr th {\n",
       "        vertical-align: top;\n",
       "    }\n",
       "\n",
       "    .dataframe thead th {\n",
       "        text-align: right;\n",
       "    }\n",
       "</style>\n",
       "<table border=\"1\" class=\"dataframe\">\n",
       "  <thead>\n",
       "    <tr style=\"text-align: right;\">\n",
       "      <th></th>\n",
       "      <th>index_in_page</th>\n",
       "      <th>NAME</th>\n",
       "      <th>GROUP</th>\n",
       "      <th>DAY/TIME/ROOM1</th>\n",
       "      <th>DAY/TIME/ROOM2</th>\n",
       "      <th>DAY/TIME/ROOM3</th>\n",
       "      <th>DAY/TIME/ROOM4</th>\n",
       "      <th>PROFESSORS</th>\n",
       "      <th>PROFESSOR1</th>\n",
       "      <th>PROFESSOR2</th>\n",
       "      <th>...</th>\n",
       "      <th>ROOM1</th>\n",
       "      <th>DAY2</th>\n",
       "      <th>TIME2</th>\n",
       "      <th>ROOM2</th>\n",
       "      <th>DAY3</th>\n",
       "      <th>TIME3</th>\n",
       "      <th>ROOM3</th>\n",
       "      <th>DAY4</th>\n",
       "      <th>TIME4</th>\n",
       "      <th>ROOM4</th>\n",
       "    </tr>\n",
       "    <tr>\n",
       "      <th>_ID</th>\n",
       "      <th></th>\n",
       "      <th></th>\n",
       "      <th></th>\n",
       "      <th></th>\n",
       "      <th></th>\n",
       "      <th></th>\n",
       "      <th></th>\n",
       "      <th></th>\n",
       "      <th></th>\n",
       "      <th></th>\n",
       "      <th></th>\n",
       "      <th></th>\n",
       "      <th></th>\n",
       "      <th></th>\n",
       "      <th></th>\n",
       "      <th></th>\n",
       "      <th></th>\n",
       "      <th></th>\n",
       "      <th></th>\n",
       "      <th></th>\n",
       "      <th></th>\n",
       "    </tr>\n",
       "  </thead>\n",
       "  <tbody>\n",
       "    <tr>\n",
       "      <th>0</th>\n",
       "      <td>1</td>\n",
       "      <td>ADMINISTRACION Y MANEJO DE PERSONAL</td>\n",
       "      <td>A</td>\n",
       "      <td>SABADO/9-12/F6</td>\n",
       "      <td>NaN</td>\n",
       "      <td>NaN</td>\n",
       "      <td>NaN</td>\n",
       "      <td>ALDELMO EMMANUEL ISRAEL REYES PABLO</td>\n",
       "      <td>ALDELMO EMMANUEL ISRAEL REYES PABLO</td>\n",
       "      <td>NaN</td>\n",
       "      <td>...</td>\n",
       "      <td>F6</td>\n",
       "      <td>NaN</td>\n",
       "      <td>NaN</td>\n",
       "      <td>NaN</td>\n",
       "      <td>NaN</td>\n",
       "      <td>NaN</td>\n",
       "      <td>NaN</td>\n",
       "      <td>NaN</td>\n",
       "      <td>NaN</td>\n",
       "      <td>NaN</td>\n",
       "    </tr>\n",
       "    <tr>\n",
       "      <th>1</th>\n",
       "      <td>2</td>\n",
       "      <td>ALEMAN I</td>\n",
       "      <td>A</td>\n",
       "      <td>SABADO/8-11/F7</td>\n",
       "      <td>NaN</td>\n",
       "      <td>NaN</td>\n",
       "      <td>NaN</td>\n",
       "      <td>MA. ISABEL DELGADILLO CANO</td>\n",
       "      <td>MA. ISABEL DELGADILLO CANO</td>\n",
       "      <td>NaN</td>\n",
       "      <td>...</td>\n",
       "      <td>F7</td>\n",
       "      <td>NaN</td>\n",
       "      <td>NaN</td>\n",
       "      <td>NaN</td>\n",
       "      <td>NaN</td>\n",
       "      <td>NaN</td>\n",
       "      <td>NaN</td>\n",
       "      <td>NaN</td>\n",
       "      <td>NaN</td>\n",
       "      <td>NaN</td>\n",
       "    </tr>\n",
       "    <tr>\n",
       "      <th>2</th>\n",
       "      <td>3</td>\n",
       "      <td>ALGEBRA LINEAL</td>\n",
       "      <td>A</td>\n",
       "      <td>LUNES/8-10/AUDITORIO EDIF. G</td>\n",
       "      <td>MIERCOLES/8-10/AUDITORIO EDIF. G</td>\n",
       "      <td>NaN</td>\n",
       "      <td>NaN</td>\n",
       "      <td>MIGUEL ANGEL VALLEJO HERNANDEZ</td>\n",
       "      <td>MIGUEL ANGEL VALLEJO HERNANDEZ</td>\n",
       "      <td>NaN</td>\n",
       "      <td>...</td>\n",
       "      <td>AUDITORIO EDIF. G</td>\n",
       "      <td>MIERCOLES</td>\n",
       "      <td>8-10</td>\n",
       "      <td>AUDITORIO EDIF. G</td>\n",
       "      <td>NaN</td>\n",
       "      <td>NaN</td>\n",
       "      <td>NaN</td>\n",
       "      <td>NaN</td>\n",
       "      <td>NaN</td>\n",
       "      <td>NaN</td>\n",
       "    </tr>\n",
       "  </tbody>\n",
       "</table>\n",
       "<p>3 rows × 24 columns</p>\n",
       "</div>"
      ],
      "text/plain": [
       "     index_in_page                                 NAME GROUP  \\\n",
       "_ID                                                             \n",
       "0                1  ADMINISTRACION Y MANEJO DE PERSONAL     A   \n",
       "1                2                             ALEMAN I     A   \n",
       "2                3                       ALGEBRA LINEAL     A   \n",
       "\n",
       "                   DAY/TIME/ROOM1                    DAY/TIME/ROOM2  \\\n",
       "_ID                                                                   \n",
       "0                  SABADO/9-12/F6                               NaN   \n",
       "1                  SABADO/8-11/F7                               NaN   \n",
       "2    LUNES/8-10/AUDITORIO EDIF. G  MIERCOLES/8-10/AUDITORIO EDIF. G   \n",
       "\n",
       "    DAY/TIME/ROOM3 DAY/TIME/ROOM4                           PROFESSORS  \\\n",
       "_ID                                                                      \n",
       "0              NaN            NaN  ALDELMO EMMANUEL ISRAEL REYES PABLO   \n",
       "1              NaN            NaN           MA. ISABEL DELGADILLO CANO   \n",
       "2              NaN            NaN       MIGUEL ANGEL VALLEJO HERNANDEZ   \n",
       "\n",
       "                              PROFESSOR1 PROFESSOR2  ...              ROOM1  \\\n",
       "_ID                                                  ...                      \n",
       "0    ALDELMO EMMANUEL ISRAEL REYES PABLO        NaN  ...                 F6   \n",
       "1             MA. ISABEL DELGADILLO CANO        NaN  ...                 F7   \n",
       "2         MIGUEL ANGEL VALLEJO HERNANDEZ        NaN  ...  AUDITORIO EDIF. G   \n",
       "\n",
       "          DAY2 TIME2              ROOM2 DAY3 TIME3 ROOM3 DAY4 TIME4 ROOM4  \n",
       "_ID                                                                        \n",
       "0          NaN   NaN                NaN  NaN   NaN   NaN  NaN   NaN   NaN  \n",
       "1          NaN   NaN                NaN  NaN   NaN   NaN  NaN   NaN   NaN  \n",
       "2    MIERCOLES  8-10  AUDITORIO EDIF. G  NaN   NaN   NaN  NaN   NaN   NaN  \n",
       "\n",
       "[3 rows x 24 columns]"
      ]
     },
     "execution_count": 67,
     "metadata": {},
     "output_type": "execute_result"
    }
   ],
   "source": [
    "past_data = pd.read_csv('../data/past_clean_schedules.csv')\n",
    "past_data.set_index(['_ID'], inplace = True)\n",
    "past_data.head(3)"
   ]
  },
  {
   "cell_type": "code",
   "execution_count": 109,
   "id": "14d24dce",
   "metadata": {},
   "outputs": [
    {
     "name": "stdout",
     "output_type": "stream",
     "text": [
      "Past Data Length:  194\n",
      "Current Data Length:  192\n"
     ]
    }
   ],
   "source": [
    "# The length -> Doesn't have to be equal\n",
    "print('Past Data Length: ', len(past_data))\n",
    "print('Current Data Length: ', len(normalized_data))"
   ]
  },
  {
   "cell_type": "code",
   "execution_count": 127,
   "id": "4e553df2",
   "metadata": {},
   "outputs": [],
   "source": [
    "# Compare the professorsand schedule\n",
    "def get_counters_for_check(data):\n",
    "    subjects = {subject_name: {'PROFESSORS':set(), 'NUMBER': 0} for subject_name in set(data['NAME'])}\n",
    "    \n",
    "    for row in data.iterrows():\n",
    "        for professor in row[1]['PROFESSORS'].split('/'):\n",
    "            subjects[row[1]['NAME']]['PROFESSORS'].add(professor)\n",
    "        subjects[row[1]['NAME']]['NUMBER'] += 1\n",
    "            \n",
    "    return subjects"
   ]
  },
  {
   "cell_type": "code",
   "execution_count": 129,
   "id": "528f7b20",
   "metadata": {},
   "outputs": [
    {
     "name": "stdout",
     "output_type": "stream",
     "text": [
      "INGLES I has 2 appearances on PAST and 1 on CURRENT\n",
      "INGLES II not in CURRENT\n"
     ]
    }
   ],
   "source": [
    "past_subjects = get_counters_for_check(past_data)\n",
    "current_subjects = get_counters_for_check(normalized_data)\n",
    "# And lets compare the number of elements per subject for each data set\n",
    "largest_subjects = past_subjects if len(past_subjects) > len(current_subjects) else current_subjects\n",
    "largest_subjects_name = 'PAST' if len(past_subjects) > len(current_subjects) else 'CURRENT'\n",
    "smaller_subjects = past_subjects if len(past_subjects) <= len(current_subjects) else current_subjects\n",
    "smaller_subjects_name = 'PAST' if len(past_subjects) <= len(current_subjects) else 'CURRENT'\n",
    "\n",
    "# Este for me dice qué materias no están en en el nuevo horario o qué materias están extra en el nuevo\n",
    "for subject in largest_subjects:\n",
    "    if subject not in smaller_subjects:\n",
    "        print(f'{subject} not in {smaller_subjects_name}')\n",
    "    else:\n",
    "        if largest_subjects[subject]['NUMBER'] != smaller_subjects[subject]['NUMBER']:\n",
    "            print(f\"{subject} has {largest_subjects[subject]['NUMBER']} appearances on {largest_subjects_name} and {smaller_subjects[subject]['NUMBER']} on {smaller_subjects_name}\")\n",
    "# After reviewing the number of discrepancies we can assure everything is fine comparing with the page: http://www.dci.ugto.mx/estudiantes/index.php/mcursos/horarios-licenciatura and our database    "
   ]
  },
  {
   "cell_type": "code",
   "execution_count": 133,
   "id": "0d52172d",
   "metadata": {},
   "outputs": [
    {
     "name": "stdout",
     "output_type": "stream",
     "text": [
      "Professors changed in PROBABILIDAD Y ESTADISTICA: \n",
      "CURRENT: {'MARIO CESAR PEREZ CHAVEZ', 'VICTOR ALFONSO VICENTE BENITEZ', 'MARIA GUADALUPE LEON VERDIN'}\n",
      "PAST: {'VICTOR ALFONSO VICENTE BENITEZ', 'PENDIENTE', 'MARIA GUADALUPE LEON VERDIN'}\n",
      "-----------------------------------------------------------------------\n",
      "Professors changed in INGENIERIA EN REHABILITACION: \n",
      "CURRENT: {'PEDRO ULISES MUNOZ GONZALEZ', 'ARTURO VEGA GONZALEZ'}\n",
      "PAST: {'ARTURO VEGA GONZALEZ'}\n",
      "-----------------------------------------------------------------------\n",
      "Professors changed in CALCULO INTEGRAL: \n",
      "CURRENT: {'JOSE SOCORRO GARCIA DIAZ', 'ETNA DAFNE YANEZ ROLDAN', 'CARSTEN HOLTFORT', 'MODESTO ANTONIO SOSA AQUINO', 'JOHAN MANUEL ZUNIGA COLLAZOS', 'FRANCISCO SASTRE CARMONA'}\n",
      "PAST: {'JOSE SOCORRO GARCIA DIAZ', 'ETNA DAFNE YANEZ ROLDAN', 'PENDIENTE', 'MODESTO ANTONIO SOSA AQUINO', 'JOHAN MANUEL ZUNIGA COLLAZOS', 'FRANCISCO SASTRE CARMONA'}\n",
      "-----------------------------------------------------------------------\n",
      "Professors changed in PROGRAMACION ORIENTADA A OBJETOS Y EVENTOS: \n",
      "CURRENT: {'IGNACIO RAUL ROSAS ROMAN', 'JOSE REYES JUAREZ RAMIREZ', 'ANGELICA HERNANDEZ RAYAS', 'LUIS CARLOS PADIERNA GARCIA'}\n",
      "PAST: {'IGNACIO RAUL ROSAS ROMAN', 'LUIS CARLOS PADIERNA GARCIA', 'ANGELICA HERNANDEZ RAYAS', 'JOSE REYES JUAREZ'}\n",
      "-----------------------------------------------------------------------\n",
      "Professors changed in LABORATORIO DE FENOMENOS DE TRANSPORTE: \n",
      "CURRENT: {'JOSE DE JESUS MENDOZA PEDROZA', 'CHRISTIAN FELIPE RODRIGUEZ ROBLES'}\n",
      "PAST: {'CHRISTIAN FELIPE RODRIGUEZ ROBLES', 'PENDIENTE'}\n",
      "-----------------------------------------------------------------------\n",
      "Professors changed in MECANICA CLASICA: \n",
      "CURRENT: {'MARIO CESAR PEREZ CHAVEZ', 'NATALIA RINCON LONDONO', 'JOSE SOCORRO GARCIA DIAZ', 'JOSE ALFREDO SOTO ALVAREZ', 'PENDIENTE', 'JOSE DE JESUS BERNAL ALVARADO', ' EDGAR VALENCIA RODRIGUEZ', 'EDGAR VALENCIA RODRIGUEZ', 'PABLO REYES HERNANDEZ', 'GEMMA ELIZABETH PEREZ CUELLAR'}\n",
      "PAST: {'NATALIA RINCON LONDONO', 'JOSE SOCORRO GARCIA DIAZ', 'JOSE ALFREDO SOTO ALVAREZ', 'PENDIENTE', 'JULIAN MEJIA MORALES', 'JOSE DE JESUS BERNAL ALVARADO', ' EDGAR VALENCIA RODRIGUEZ', 'EDGAR VALENCIA RODRIGUEZ', 'PABLO REYES HERNANDEZ', 'GEMMA ELIZABETH PEREZ CUELLAR'}\n",
      "-----------------------------------------------------------------------\n",
      "Professors changed in MECANICA CUANTICA RELATIVISTA: \n",
      "CURRENT: {'JUAN BARRANCO MONARCA', 'DAVID YVES GHISLAIN DELEPINE'}\n",
      "PAST: {'DAVID YVES GHISLAIN DELEPINE'}\n",
      "-----------------------------------------------------------------------\n",
      "Professors changed in FLUIDOS, ONDAS Y TEMPERATURA: \n",
      "CURRENT: {'NATALIA RINCON LONDONO', 'JOSUE ADIN MINGUELA GALLARDO', 'ALEJANDRO GIL-VILLEGAS MONTIEL', 'GERARDO GUTIERREZ JUAREZ', 'GERARDO GUTIERREZ', 'ANA LAURA BENAVIDES OBREGON', 'JUAN SAMUEL SEBASTIAN DURAN GOMEZ', 'JOSE MIGUEL RAMOS MORENO'}\n",
      "PAST: {'NATALIA RINCON LONDONO', 'JOSUE ADIN MINGUELA GALLARDO', 'ALEJANDRO GIL-VILLEGAS MONTIEL', 'GERARDO GUTIERREZ JUAREZ', 'PENDIENTE', 'ANA LAURA BENAVIDES OBREGON', 'JUAN SAMUEL SEBASTIAN DURAN GOMEZ', 'JOSE MIGUEL RAMOS MORENO'}\n",
      "-----------------------------------------------------------------------\n",
      "Professors changed in CALCULO DIFERENCIAL: \n",
      "CURRENT: {'LORENA BERENICE VELAZQUEZ IBARRA', 'MOISES CYWIAK GARBARCEWIKS', 'MIGUEL ANGEL VALLEJO HERNANDEZ', 'CARSTEN HOLTFORT'}\n",
      "PAST: {'MOISES CYWIAK', 'LORENA BERENICE VELAZQUEZ IBARRA', 'MIGUEL ANGEL VALLEJO HERNANDEZ', 'CARSTEN HOLTFORT'}\n",
      "-----------------------------------------------------------------------\n",
      "Professors changed in INGLES I: \n",
      "CURRENT: {'DENIA NAVARRO VILLAFANA'}\n",
      "PAST: {'PENDIENTE', 'DENIA NAVARRO VILLAFANA'}\n",
      "-----------------------------------------------------------------------\n",
      "Professors changed in SINTESIS DE POLIMEROS: \n",
      "CURRENT: {'BIRZABITH MENDOZA NOVELO', 'PEDRO ULISES MUNOZ GONZALEZ'}\n",
      "PAST: {'', 'BIRZABITH MENDOZA NOVELO'}\n",
      "-----------------------------------------------------------------------\n"
     ]
    }
   ],
   "source": [
    "# Check professors\n",
    "for subject in largest_subjects:\n",
    "    if subject in smaller_subjects and largest_subjects[subject]['PROFESSORS'] != smaller_subjects[subject]['PROFESSORS']:\n",
    "        print(f\"Professors changed in {subject}: \")\n",
    "        print(f\"{smaller_subjects_name}: {smaller_subjects[subject]['PROFESSORS']}\")\n",
    "        print(f\"{largest_subjects_name}: {largest_subjects[subject]['PROFESSORS']}\")\n",
    "        print('-----------------------------------------------------------------------')"
   ]
  },
  {
   "cell_type": "code",
   "execution_count": null,
   "id": "d3037b96",
   "metadata": {},
   "outputs": [],
   "source": []
  }
 ],
 "metadata": {
  "kernelspec": {
   "display_name": "Python 3 (ipykernel)",
   "language": "python",
   "name": "python3"
  },
  "language_info": {
   "codemirror_mode": {
    "name": "ipython",
    "version": 3
   },
   "file_extension": ".py",
   "mimetype": "text/x-python",
   "name": "python",
   "nbconvert_exporter": "python",
   "pygments_lexer": "ipython3",
   "version": "3.10.8"
  }
 },
 "nbformat": 4,
 "nbformat_minor": 5
}
